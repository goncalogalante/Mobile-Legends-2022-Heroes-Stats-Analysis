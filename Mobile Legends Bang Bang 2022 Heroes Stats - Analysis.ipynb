{
 "cells": [
  {
   "cell_type": "markdown",
   "id": "ede04cc1",
   "metadata": {},
   "source": [
    "# Mobile Legends: Bang Bang 2022 Heroes Stats - Analysis\n",
    "In this notebook, the stats of the heroes of the Mobile Legends game in 2022 will be analysed, so that some relevant informations can be extracted not only about the champions, but also about the Mobile Legends esports scenario. The purpose of this notebook is to learn and get some relevant insights from the Mobile Legends data (Mobile Legends Version Patch 1.7.20 September 20, 2022), downloaded from Kaggle. \n",
    "\n",
    "Dataset link: https://www.kaggle.com/datasets/kishan9044/mobile-legends-bang-bang\n",
    "\n",
    "The main topics of this notebook are:\n",
    "* Libraries Import\n",
    "* Data Loading\n",
    "* Data Cleaning, Transformation and Exploratory Data Analysis\n",
    "    * Data visualization and exploration\n",
    "    * Esports analysis\n",
    "* Main Conclusions"
   ]
  },
  {
   "cell_type": "markdown",
   "id": "5c8ca618",
   "metadata": {},
   "source": [
    "## 1. Importing libraries"
   ]
  },
  {
   "cell_type": "code",
   "execution_count": 53,
   "id": "3ab90f7c",
   "metadata": {},
   "outputs": [],
   "source": [
    "import pandas as pd\n",
    "import matplotlib.pyplot as plt\n",
    "import seaborn as sns\n",
    "import scipy.stats as ss\n",
    "import numpy as np\n",
    "import warnings\n",
    "import os\n",
    "from sklearn import preprocessing"
   ]
  },
  {
   "cell_type": "code",
   "execution_count": 54,
   "id": "cd944580",
   "metadata": {},
   "outputs": [],
   "source": [
    "os.environ['OMP_NUM_THREADS'] = '1'\n",
    "warnings.filterwarnings(\"ignore\", message=\"Parsing dates in DD/MM/YYYY format when dayfirst=False\")"
   ]
  },
  {
   "cell_type": "markdown",
   "id": "abe4fa32",
   "metadata": {},
   "source": [
    "## 2. Loading the data\n",
    "In this section, the Mobile Legends Heroes Stats 2022 dataset is readed."
   ]
  },
  {
   "cell_type": "code",
   "execution_count": 55,
   "id": "3013e590",
   "metadata": {},
   "outputs": [],
   "source": [
    "dataset_path = 'Mlbb_Heroes.csv'\n",
    "dataset_df = pd.read_csv(dataset_path)"
   ]
  },
  {
   "cell_type": "markdown",
   "id": "3ab0a287",
   "metadata": {},
   "source": [
    "## 3. Data Cleaning, Transformation, and Exploratory Data Analysis\n",
    "\n",
    "Along this section, we proceed for the data understanding by EDA and by performing data cleaning and transformation, for a more composite analysis. "
   ]
  },
  {
   "cell_type": "code",
   "execution_count": 56,
   "id": "8a75cfbf",
   "metadata": {},
   "outputs": [
    {
     "data": {
      "text/html": [
       "<div>\n",
       "<style scoped>\n",
       "    .dataframe tbody tr th:only-of-type {\n",
       "        vertical-align: middle;\n",
       "    }\n",
       "\n",
       "    .dataframe tbody tr th {\n",
       "        vertical-align: top;\n",
       "    }\n",
       "\n",
       "    .dataframe thead th {\n",
       "        text-align: right;\n",
       "    }\n",
       "</style>\n",
       "<table border=\"1\" class=\"dataframe\">\n",
       "  <thead>\n",
       "    <tr style=\"text-align: right;\">\n",
       "      <th></th>\n",
       "      <th>Name</th>\n",
       "      <th>Title</th>\n",
       "      <th>Voice_Line</th>\n",
       "      <th>Release_Date</th>\n",
       "      <th>Primary_Role</th>\n",
       "      <th>Secondary_Role</th>\n",
       "      <th>Lane</th>\n",
       "      <th>Hp</th>\n",
       "      <th>Hp_Regen</th>\n",
       "      <th>Mana</th>\n",
       "      <th>Mana_Regen</th>\n",
       "      <th>Phy_Damage</th>\n",
       "      <th>Mag_Damage</th>\n",
       "      <th>Phy_Defence</th>\n",
       "      <th>Mag_Defence</th>\n",
       "      <th>Mov_Speed</th>\n",
       "      <th>Esport_Wins</th>\n",
       "      <th>Esport_Loss</th>\n",
       "    </tr>\n",
       "  </thead>\n",
       "  <tbody>\n",
       "    <tr>\n",
       "      <th>0</th>\n",
       "      <td>Aamon</td>\n",
       "      <td>Duke of Shards</td>\n",
       "      <td>It is better to be feared than loved, if you c...</td>\n",
       "      <td>10/25/2021</td>\n",
       "      <td>Assassin</td>\n",
       "      <td>NaN</td>\n",
       "      <td>Jungler</td>\n",
       "      <td>2614</td>\n",
       "      <td>8.0</td>\n",
       "      <td>455</td>\n",
       "      <td>21.0</td>\n",
       "      <td>115</td>\n",
       "      <td>0</td>\n",
       "      <td>19</td>\n",
       "      <td>15</td>\n",
       "      <td>250</td>\n",
       "      <td>43</td>\n",
       "      <td>42</td>\n",
       "    </tr>\n",
       "    <tr>\n",
       "      <th>1</th>\n",
       "      <td>Akai</td>\n",
       "      <td>Panda Warrior</td>\n",
       "      <td>Now Akai enters the scene!</td>\n",
       "      <td>2016</td>\n",
       "      <td>Tank</td>\n",
       "      <td>Support</td>\n",
       "      <td>Roamer</td>\n",
       "      <td>2769</td>\n",
       "      <td>8.4</td>\n",
       "      <td>422</td>\n",
       "      <td>12.0</td>\n",
       "      <td>115</td>\n",
       "      <td>0</td>\n",
       "      <td>24</td>\n",
       "      <td>15</td>\n",
       "      <td>260</td>\n",
       "      <td>540</td>\n",
       "      <td>524</td>\n",
       "    </tr>\n",
       "    <tr>\n",
       "      <th>2</th>\n",
       "      <td>Aldous</td>\n",
       "      <td>Soul Contractor</td>\n",
       "      <td>Primary Role</td>\n",
       "      <td>2018</td>\n",
       "      <td>Fighter</td>\n",
       "      <td>NaN</td>\n",
       "      <td>EXP Lane</td>\n",
       "      <td>2718</td>\n",
       "      <td>9.8</td>\n",
       "      <td>405</td>\n",
       "      <td>18.0</td>\n",
       "      <td>129</td>\n",
       "      <td>0</td>\n",
       "      <td>21</td>\n",
       "      <td>15</td>\n",
       "      <td>260</td>\n",
       "      <td>95</td>\n",
       "      <td>92</td>\n",
       "    </tr>\n",
       "    <tr>\n",
       "      <th>3</th>\n",
       "      <td>Alice</td>\n",
       "      <td>Queen of Blood</td>\n",
       "      <td>Watch your back!</td>\n",
       "      <td>2016</td>\n",
       "      <td>Mage</td>\n",
       "      <td>Tank</td>\n",
       "      <td>EXP Lane</td>\n",
       "      <td>2573</td>\n",
       "      <td>7.2</td>\n",
       "      <td>493</td>\n",
       "      <td>18.0</td>\n",
       "      <td>114</td>\n",
       "      <td>0</td>\n",
       "      <td>21</td>\n",
       "      <td>15</td>\n",
       "      <td>240</td>\n",
       "      <td>364</td>\n",
       "      <td>352</td>\n",
       "    </tr>\n",
       "    <tr>\n",
       "      <th>4</th>\n",
       "      <td>Alpha</td>\n",
       "      <td>Blade of Enmity</td>\n",
       "      <td>Test! Alpha is online.</td>\n",
       "      <td>2017</td>\n",
       "      <td>Fighter</td>\n",
       "      <td>NaN</td>\n",
       "      <td>EXP Lane</td>\n",
       "      <td>2646</td>\n",
       "      <td>7.8</td>\n",
       "      <td>453</td>\n",
       "      <td>31.0</td>\n",
       "      <td>121</td>\n",
       "      <td>0</td>\n",
       "      <td>25</td>\n",
       "      <td>15</td>\n",
       "      <td>260</td>\n",
       "      <td>24</td>\n",
       "      <td>33</td>\n",
       "    </tr>\n",
       "  </tbody>\n",
       "</table>\n",
       "</div>"
      ],
      "text/plain": [
       "     Name            Title                                         Voice_Line  \\\n",
       "0   Aamon   Duke of Shards  It is better to be feared than loved, if you c...   \n",
       "1    Akai    Panda Warrior                         Now Akai enters the scene!   \n",
       "2  Aldous  Soul Contractor                                       Primary Role   \n",
       "3   Alice   Queen of Blood                                   Watch your back!   \n",
       "4   Alpha  Blade of Enmity                             Test! Alpha is online.   \n",
       "\n",
       "  Release_Date Primary_Role Secondary_Role      Lane    Hp  Hp_Regen  Mana  \\\n",
       "0   10/25/2021     Assassin            NaN   Jungler  2614       8.0   455   \n",
       "1         2016         Tank        Support    Roamer  2769       8.4   422   \n",
       "2         2018      Fighter            NaN  EXP Lane  2718       9.8   405   \n",
       "3         2016         Mage           Tank  EXP Lane  2573       7.2   493   \n",
       "4         2017      Fighter            NaN  EXP Lane  2646       7.8   453   \n",
       "\n",
       "   Mana_Regen  Phy_Damage  Mag_Damage  Phy_Defence  Mag_Defence  Mov_Speed  \\\n",
       "0        21.0         115           0           19           15        250   \n",
       "1        12.0         115           0           24           15        260   \n",
       "2        18.0         129           0           21           15        260   \n",
       "3        18.0         114           0           21           15        240   \n",
       "4        31.0         121           0           25           15        260   \n",
       "\n",
       "   Esport_Wins  Esport_Loss  \n",
       "0           43           42  \n",
       "1          540          524  \n",
       "2           95           92  \n",
       "3          364          352  \n",
       "4           24           33  "
      ]
     },
     "execution_count": 56,
     "metadata": {},
     "output_type": "execute_result"
    }
   ],
   "source": [
    "dataset_df.head()"
   ]
  },
  {
   "cell_type": "code",
   "execution_count": 57,
   "id": "0c2abb31",
   "metadata": {},
   "outputs": [
    {
     "data": {
      "text/plain": [
       "Index(['Name', 'Title', 'Voice_Line', 'Release_Date', 'Primary_Role',\n",
       "       'Secondary_Role', 'Lane', 'Hp', 'Hp_Regen', 'Mana', 'Mana_Regen',\n",
       "       'Phy_Damage', 'Mag_Damage', 'Phy_Defence', 'Mag_Defence', 'Mov_Speed',\n",
       "       'Esport_Wins', 'Esport_Loss'],\n",
       "      dtype='object')"
      ]
     },
     "execution_count": 57,
     "metadata": {},
     "output_type": "execute_result"
    }
   ],
   "source": [
    "# Check all the features \n",
    "dataset_df.columns"
   ]
  },
  {
   "cell_type": "code",
   "execution_count": 58,
   "id": "0ff332b5",
   "metadata": {},
   "outputs": [],
   "source": [
    "# Drop unnecessary features for analysis\n",
    "dataset_df = dataset_df.drop(columns=['Title', 'Voice_Line', 'Secondary_Role', 'Mag_Damage'])"
   ]
  },
  {
   "cell_type": "markdown",
   "id": "1ec23ca9",
   "metadata": {},
   "source": [
    "Magic Damage was also dropped, because all the column is set to zero, which means that all the champions basic counts as Physical Damage"
   ]
  },
  {
   "cell_type": "code",
   "execution_count": 59,
   "id": "86b2c320",
   "metadata": {},
   "outputs": [
    {
     "data": {
      "text/html": [
       "<div>\n",
       "<style scoped>\n",
       "    .dataframe tbody tr th:only-of-type {\n",
       "        vertical-align: middle;\n",
       "    }\n",
       "\n",
       "    .dataframe tbody tr th {\n",
       "        vertical-align: top;\n",
       "    }\n",
       "\n",
       "    .dataframe thead th {\n",
       "        text-align: right;\n",
       "    }\n",
       "</style>\n",
       "<table border=\"1\" class=\"dataframe\">\n",
       "  <thead>\n",
       "    <tr style=\"text-align: right;\">\n",
       "      <th></th>\n",
       "      <th>Name</th>\n",
       "      <th>Release_Date</th>\n",
       "      <th>Primary_Role</th>\n",
       "      <th>Lane</th>\n",
       "      <th>Hp</th>\n",
       "      <th>Hp_Regen</th>\n",
       "      <th>Mana</th>\n",
       "      <th>Mana_Regen</th>\n",
       "      <th>Phy_Damage</th>\n",
       "      <th>Phy_Defence</th>\n",
       "      <th>Mag_Defence</th>\n",
       "      <th>Mov_Speed</th>\n",
       "      <th>Esport_Wins</th>\n",
       "      <th>Esport_Loss</th>\n",
       "    </tr>\n",
       "  </thead>\n",
       "  <tbody>\n",
       "    <tr>\n",
       "      <th>0</th>\n",
       "      <td>Aamon</td>\n",
       "      <td>10/25/2021</td>\n",
       "      <td>Assassin</td>\n",
       "      <td>Jungler</td>\n",
       "      <td>2614</td>\n",
       "      <td>8.0</td>\n",
       "      <td>455</td>\n",
       "      <td>21.0</td>\n",
       "      <td>115</td>\n",
       "      <td>19</td>\n",
       "      <td>15</td>\n",
       "      <td>250</td>\n",
       "      <td>43</td>\n",
       "      <td>42</td>\n",
       "    </tr>\n",
       "    <tr>\n",
       "      <th>1</th>\n",
       "      <td>Akai</td>\n",
       "      <td>2016</td>\n",
       "      <td>Tank</td>\n",
       "      <td>Roamer</td>\n",
       "      <td>2769</td>\n",
       "      <td>8.4</td>\n",
       "      <td>422</td>\n",
       "      <td>12.0</td>\n",
       "      <td>115</td>\n",
       "      <td>24</td>\n",
       "      <td>15</td>\n",
       "      <td>260</td>\n",
       "      <td>540</td>\n",
       "      <td>524</td>\n",
       "    </tr>\n",
       "    <tr>\n",
       "      <th>2</th>\n",
       "      <td>Aldous</td>\n",
       "      <td>2018</td>\n",
       "      <td>Fighter</td>\n",
       "      <td>EXP Lane</td>\n",
       "      <td>2718</td>\n",
       "      <td>9.8</td>\n",
       "      <td>405</td>\n",
       "      <td>18.0</td>\n",
       "      <td>129</td>\n",
       "      <td>21</td>\n",
       "      <td>15</td>\n",
       "      <td>260</td>\n",
       "      <td>95</td>\n",
       "      <td>92</td>\n",
       "    </tr>\n",
       "    <tr>\n",
       "      <th>3</th>\n",
       "      <td>Alice</td>\n",
       "      <td>2016</td>\n",
       "      <td>Mage</td>\n",
       "      <td>EXP Lane</td>\n",
       "      <td>2573</td>\n",
       "      <td>7.2</td>\n",
       "      <td>493</td>\n",
       "      <td>18.0</td>\n",
       "      <td>114</td>\n",
       "      <td>21</td>\n",
       "      <td>15</td>\n",
       "      <td>240</td>\n",
       "      <td>364</td>\n",
       "      <td>352</td>\n",
       "    </tr>\n",
       "    <tr>\n",
       "      <th>4</th>\n",
       "      <td>Alpha</td>\n",
       "      <td>2017</td>\n",
       "      <td>Fighter</td>\n",
       "      <td>EXP Lane</td>\n",
       "      <td>2646</td>\n",
       "      <td>7.8</td>\n",
       "      <td>453</td>\n",
       "      <td>31.0</td>\n",
       "      <td>121</td>\n",
       "      <td>25</td>\n",
       "      <td>15</td>\n",
       "      <td>260</td>\n",
       "      <td>24</td>\n",
       "      <td>33</td>\n",
       "    </tr>\n",
       "  </tbody>\n",
       "</table>\n",
       "</div>"
      ],
      "text/plain": [
       "     Name Release_Date Primary_Role      Lane    Hp  Hp_Regen  Mana  \\\n",
       "0   Aamon   10/25/2021     Assassin   Jungler  2614       8.0   455   \n",
       "1    Akai         2016         Tank    Roamer  2769       8.4   422   \n",
       "2  Aldous         2018      Fighter  EXP Lane  2718       9.8   405   \n",
       "3   Alice         2016         Mage  EXP Lane  2573       7.2   493   \n",
       "4   Alpha         2017      Fighter  EXP Lane  2646       7.8   453   \n",
       "\n",
       "   Mana_Regen  Phy_Damage  Phy_Defence  Mag_Defence  Mov_Speed  Esport_Wins  \\\n",
       "0        21.0         115           19           15        250           43   \n",
       "1        12.0         115           24           15        260          540   \n",
       "2        18.0         129           21           15        260           95   \n",
       "3        18.0         114           21           15        240          364   \n",
       "4        31.0         121           25           15        260           24   \n",
       "\n",
       "   Esport_Loss  \n",
       "0           42  \n",
       "1          524  \n",
       "2           92  \n",
       "3          352  \n",
       "4           33  "
      ]
     },
     "execution_count": 59,
     "metadata": {},
     "output_type": "execute_result"
    }
   ],
   "source": [
    "dataset_df.head()"
   ]
  },
  {
   "cell_type": "code",
   "execution_count": 60,
   "id": "801ac555",
   "metadata": {},
   "outputs": [
    {
     "data": {
      "text/plain": [
       "(114, 14)"
      ]
     },
     "execution_count": 60,
     "metadata": {},
     "output_type": "execute_result"
    }
   ],
   "source": [
    "# Check the shape of the data\n",
    "dataset_df.shape"
   ]
  },
  {
   "cell_type": "code",
   "execution_count": 61,
   "id": "4e09132f",
   "metadata": {},
   "outputs": [
    {
     "name": "stdout",
     "output_type": "stream",
     "text": [
      "<class 'pandas.core.frame.DataFrame'>\n",
      "RangeIndex: 114 entries, 0 to 113\n",
      "Data columns (total 14 columns):\n",
      " #   Column        Non-Null Count  Dtype  \n",
      "---  ------        --------------  -----  \n",
      " 0   Name          114 non-null    object \n",
      " 1   Release_Date  114 non-null    object \n",
      " 2   Primary_Role  114 non-null    object \n",
      " 3   Lane          114 non-null    object \n",
      " 4   Hp            114 non-null    int64  \n",
      " 5   Hp_Regen      114 non-null    float64\n",
      " 6   Mana          114 non-null    int64  \n",
      " 7   Mana_Regen    113 non-null    float64\n",
      " 8   Phy_Damage    114 non-null    int64  \n",
      " 9   Phy_Defence   114 non-null    int64  \n",
      " 10  Mag_Defence   114 non-null    int64  \n",
      " 11  Mov_Speed     114 non-null    int64  \n",
      " 12  Esport_Wins   114 non-null    int64  \n",
      " 13  Esport_Loss   114 non-null    int64  \n",
      "dtypes: float64(2), int64(8), object(4)\n",
      "memory usage: 12.6+ KB\n"
     ]
    }
   ],
   "source": [
    "# Check the data types and non-null values\n",
    "dataset_df.info()"
   ]
  },
  {
   "cell_type": "code",
   "execution_count": 62,
   "id": "eb326fe0",
   "metadata": {},
   "outputs": [
    {
     "data": {
      "text/html": [
       "<div>\n",
       "<style scoped>\n",
       "    .dataframe tbody tr th:only-of-type {\n",
       "        vertical-align: middle;\n",
       "    }\n",
       "\n",
       "    .dataframe tbody tr th {\n",
       "        vertical-align: top;\n",
       "    }\n",
       "\n",
       "    .dataframe thead th {\n",
       "        text-align: right;\n",
       "    }\n",
       "</style>\n",
       "<table border=\"1\" class=\"dataframe\">\n",
       "  <thead>\n",
       "    <tr style=\"text-align: right;\">\n",
       "      <th></th>\n",
       "      <th>Hp</th>\n",
       "      <th>Hp_Regen</th>\n",
       "      <th>Mana</th>\n",
       "      <th>Mana_Regen</th>\n",
       "      <th>Phy_Damage</th>\n",
       "      <th>Phy_Defence</th>\n",
       "      <th>Mag_Defence</th>\n",
       "      <th>Mov_Speed</th>\n",
       "      <th>Esport_Wins</th>\n",
       "      <th>Esport_Loss</th>\n",
       "    </tr>\n",
       "  </thead>\n",
       "  <tbody>\n",
       "    <tr>\n",
       "      <th>count</th>\n",
       "      <td>114.000000</td>\n",
       "      <td>114.000000</td>\n",
       "      <td>114.000000</td>\n",
       "      <td>113.000000</td>\n",
       "      <td>114.000000</td>\n",
       "      <td>114.000000</td>\n",
       "      <td>114.000000</td>\n",
       "      <td>114.000000</td>\n",
       "      <td>114.000000</td>\n",
       "      <td>114.000000</td>\n",
       "    </tr>\n",
       "    <tr>\n",
       "      <th>mean</th>\n",
       "      <td>2577.850877</td>\n",
       "      <td>7.698246</td>\n",
       "      <td>339.368421</td>\n",
       "      <td>14.929204</td>\n",
       "      <td>115.929825</td>\n",
       "      <td>19.201754</td>\n",
       "      <td>14.912281</td>\n",
       "      <td>251.175439</td>\n",
       "      <td>289.859649</td>\n",
       "      <td>289.710526</td>\n",
       "    </tr>\n",
       "    <tr>\n",
       "      <th>std</th>\n",
       "      <td>213.281700</td>\n",
       "      <td>1.639392</td>\n",
       "      <td>215.071598</td>\n",
       "      <td>22.981249</td>\n",
       "      <td>9.826566</td>\n",
       "      <td>3.582603</td>\n",
       "      <td>0.659329</td>\n",
       "      <td>8.665102</td>\n",
       "      <td>275.362187</td>\n",
       "      <td>273.140753</td>\n",
       "    </tr>\n",
       "    <tr>\n",
       "      <th>min</th>\n",
       "      <td>918.000000</td>\n",
       "      <td>3.800000</td>\n",
       "      <td>0.000000</td>\n",
       "      <td>0.000000</td>\n",
       "      <td>90.000000</td>\n",
       "      <td>10.000000</td>\n",
       "      <td>10.000000</td>\n",
       "      <td>240.000000</td>\n",
       "      <td>0.000000</td>\n",
       "      <td>3.000000</td>\n",
       "    </tr>\n",
       "    <tr>\n",
       "      <th>25%</th>\n",
       "      <td>2501.000000</td>\n",
       "      <td>6.800000</td>\n",
       "      <td>100.000000</td>\n",
       "      <td>4.000000</td>\n",
       "      <td>110.000000</td>\n",
       "      <td>17.000000</td>\n",
       "      <td>15.000000</td>\n",
       "      <td>240.000000</td>\n",
       "      <td>68.250000</td>\n",
       "      <td>71.750000</td>\n",
       "    </tr>\n",
       "    <tr>\n",
       "      <th>50%</th>\n",
       "      <td>2573.000000</td>\n",
       "      <td>7.200000</td>\n",
       "      <td>436.500000</td>\n",
       "      <td>15.000000</td>\n",
       "      <td>116.500000</td>\n",
       "      <td>19.000000</td>\n",
       "      <td>15.000000</td>\n",
       "      <td>251.000000</td>\n",
       "      <td>226.500000</td>\n",
       "      <td>222.500000</td>\n",
       "    </tr>\n",
       "    <tr>\n",
       "      <th>75%</th>\n",
       "      <td>2706.250000</td>\n",
       "      <td>8.000000</td>\n",
       "      <td>490.000000</td>\n",
       "      <td>18.000000</td>\n",
       "      <td>122.500000</td>\n",
       "      <td>22.000000</td>\n",
       "      <td>15.000000</td>\n",
       "      <td>260.000000</td>\n",
       "      <td>465.000000</td>\n",
       "      <td>457.750000</td>\n",
       "    </tr>\n",
       "    <tr>\n",
       "      <th>max</th>\n",
       "      <td>2909.000000</td>\n",
       "      <td>18.400000</td>\n",
       "      <td>750.000000</td>\n",
       "      <td>240.000000</td>\n",
       "      <td>140.000000</td>\n",
       "      <td>27.000000</td>\n",
       "      <td>15.000000</td>\n",
       "      <td>270.000000</td>\n",
       "      <td>1357.000000</td>\n",
       "      <td>1529.000000</td>\n",
       "    </tr>\n",
       "  </tbody>\n",
       "</table>\n",
       "</div>"
      ],
      "text/plain": [
       "                Hp    Hp_Regen        Mana  Mana_Regen  Phy_Damage  \\\n",
       "count   114.000000  114.000000  114.000000  113.000000  114.000000   \n",
       "mean   2577.850877    7.698246  339.368421   14.929204  115.929825   \n",
       "std     213.281700    1.639392  215.071598   22.981249    9.826566   \n",
       "min     918.000000    3.800000    0.000000    0.000000   90.000000   \n",
       "25%    2501.000000    6.800000  100.000000    4.000000  110.000000   \n",
       "50%    2573.000000    7.200000  436.500000   15.000000  116.500000   \n",
       "75%    2706.250000    8.000000  490.000000   18.000000  122.500000   \n",
       "max    2909.000000   18.400000  750.000000  240.000000  140.000000   \n",
       "\n",
       "       Phy_Defence  Mag_Defence   Mov_Speed  Esport_Wins  Esport_Loss  \n",
       "count   114.000000   114.000000  114.000000   114.000000   114.000000  \n",
       "mean     19.201754    14.912281  251.175439   289.859649   289.710526  \n",
       "std       3.582603     0.659329    8.665102   275.362187   273.140753  \n",
       "min      10.000000    10.000000  240.000000     0.000000     3.000000  \n",
       "25%      17.000000    15.000000  240.000000    68.250000    71.750000  \n",
       "50%      19.000000    15.000000  251.000000   226.500000   222.500000  \n",
       "75%      22.000000    15.000000  260.000000   465.000000   457.750000  \n",
       "max      27.000000    15.000000  270.000000  1357.000000  1529.000000  "
      ]
     },
     "execution_count": 62,
     "metadata": {},
     "output_type": "execute_result"
    }
   ],
   "source": [
    "# Basic stats about the numerical features\n",
    "dataset_df.describe()"
   ]
  },
  {
   "cell_type": "code",
   "execution_count": 63,
   "id": "02b2cd5b",
   "metadata": {},
   "outputs": [
    {
     "data": {
      "text/plain": [
       "Name            0\n",
       "Release_Date    0\n",
       "Primary_Role    0\n",
       "Lane            0\n",
       "Hp              0\n",
       "Hp_Regen        0\n",
       "Mana            0\n",
       "Mana_Regen      1\n",
       "Phy_Damage      0\n",
       "Phy_Defence     0\n",
       "Mag_Defence     0\n",
       "Mov_Speed       0\n",
       "Esport_Wins     0\n",
       "Esport_Loss     0\n",
       "dtype: int64"
      ]
     },
     "execution_count": 63,
     "metadata": {},
     "output_type": "execute_result"
    }
   ],
   "source": [
    "# Check for missing values\n",
    "dataset_df.isnull().sum()"
   ]
  },
  {
   "cell_type": "code",
   "execution_count": 64,
   "id": "de5efeb7",
   "metadata": {},
   "outputs": [
    {
     "data": {
      "text/html": [
       "<div>\n",
       "<style scoped>\n",
       "    .dataframe tbody tr th:only-of-type {\n",
       "        vertical-align: middle;\n",
       "    }\n",
       "\n",
       "    .dataframe tbody tr th {\n",
       "        vertical-align: top;\n",
       "    }\n",
       "\n",
       "    .dataframe thead th {\n",
       "        text-align: right;\n",
       "    }\n",
       "</style>\n",
       "<table border=\"1\" class=\"dataframe\">\n",
       "  <thead>\n",
       "    <tr style=\"text-align: right;\">\n",
       "      <th></th>\n",
       "      <th>Name</th>\n",
       "      <th>Release_Date</th>\n",
       "      <th>Primary_Role</th>\n",
       "      <th>Lane</th>\n",
       "      <th>Hp</th>\n",
       "      <th>Hp_Regen</th>\n",
       "      <th>Mana</th>\n",
       "      <th>Mana_Regen</th>\n",
       "      <th>Phy_Damage</th>\n",
       "      <th>Phy_Defence</th>\n",
       "      <th>Mag_Defence</th>\n",
       "      <th>Mov_Speed</th>\n",
       "      <th>Esport_Wins</th>\n",
       "      <th>Esport_Loss</th>\n",
       "    </tr>\n",
       "  </thead>\n",
       "  <tbody>\n",
       "    <tr>\n",
       "      <th>108</th>\n",
       "      <td>Yin</td>\n",
       "      <td>1/18/2022</td>\n",
       "      <td>Fighter</td>\n",
       "      <td>EXP Lane</td>\n",
       "      <td>2578</td>\n",
       "      <td>9.8</td>\n",
       "      <td>0</td>\n",
       "      <td>NaN</td>\n",
       "      <td>109</td>\n",
       "      <td>21</td>\n",
       "      <td>15</td>\n",
       "      <td>252</td>\n",
       "      <td>52</td>\n",
       "      <td>45</td>\n",
       "    </tr>\n",
       "  </tbody>\n",
       "</table>\n",
       "</div>"
      ],
      "text/plain": [
       "    Name Release_Date Primary_Role      Lane    Hp  Hp_Regen  Mana  \\\n",
       "108  Yin    1/18/2022      Fighter  EXP Lane  2578       9.8     0   \n",
       "\n",
       "     Mana_Regen  Phy_Damage  Phy_Defence  Mag_Defence  Mov_Speed  Esport_Wins  \\\n",
       "108         NaN         109           21           15        252           52   \n",
       "\n",
       "     Esport_Loss  \n",
       "108           45  "
      ]
     },
     "execution_count": 64,
     "metadata": {},
     "output_type": "execute_result"
    }
   ],
   "source": [
    "# Verify the missing value origin\n",
    "dataset_df.loc[dataset_df['Mana_Regen'].isnull()]"
   ]
  },
  {
   "cell_type": "code",
   "execution_count": 65,
   "id": "a194c741",
   "metadata": {},
   "outputs": [],
   "source": [
    "# Replace the missing value with zero\n",
    "dataset_df['Mana_Regen'].fillna(0, inplace=True)"
   ]
  },
  {
   "cell_type": "code",
   "execution_count": 66,
   "id": "25a1285e",
   "metadata": {},
   "outputs": [
    {
     "data": {
      "text/plain": [
       "0"
      ]
     },
     "execution_count": 66,
     "metadata": {},
     "output_type": "execute_result"
    }
   ],
   "source": [
    "# Check for duplicated data\n",
    "dataset_df.duplicated().sum()"
   ]
  },
  {
   "cell_type": "code",
   "execution_count": 67,
   "id": "be85594a",
   "metadata": {},
   "outputs": [
    {
     "name": "stdout",
     "output_type": "stream",
     "text": [
      "['Aamon' 'Akai' 'Aldous' 'Alice' 'Alpha' 'Alucard' 'Angela' 'Argus'\n",
      " 'Atlas' 'Aurora' 'Aulus' 'Badang' 'Balmond' 'Bane' 'Barats' 'Baxia'\n",
      " 'Beatrix' 'Belerick' 'Benedetta' 'Brody' 'Bruno' 'Carmilla' 'Cecilion'\n",
      " \"Chang'e\" 'Chou' 'Claude' 'Clint' 'Cyclops' 'Diggie' 'Dyrroth'\n",
      " 'Esmeralda' 'Edith' 'Estes' 'Eudora' 'Fanny' 'Faramis' 'Floryn' 'Franco'\n",
      " 'Fredrinn' 'Freya' 'Gatotkaca' 'Gloo' 'Gord' 'Granger' 'Grock'\n",
      " 'Guinevere' 'Gusion' 'Hanabi' 'Hanzo' 'Harith' 'Harley' 'Hayabusa'\n",
      " 'Helcurt' 'Hilda' 'Hylos' 'Irithel' 'Jawhead' 'Johnson' 'Julian' 'Kadita'\n",
      " 'Kagura' 'Kaja' 'Karina' 'Karrie' 'Khaleed' 'Khufra' 'Kimmy' 'Lancelot'\n",
      " 'Lapu-Lapu' 'Layla' 'Leomord' 'Lesley' 'Ling' 'Lolita' 'Lunox' 'Luo_Yi'\n",
      " 'Lylia' 'Mathilda' 'Martis' 'Masha' 'Melissa' 'Minotaur' 'Minsitthar'\n",
      " 'Miya' 'Moskov' 'Nana' 'Natan' 'Natalia' 'Odette' 'Pharsa' 'Phoveus'\n",
      " 'Popol_and_Kupa' 'Paquito' 'Rafaela' 'Roger' 'Ruby' 'Selena' 'Silvanna'\n",
      " 'Terizla' 'Thamuz' 'Uranus' 'Vale' 'Valentina' 'Valir' 'Vexana' 'Wanwan'\n",
      " 'Xavier' 'X.Borg' 'Yin' 'Yi_Sun-Shin' 'Yu_Zhong' 'Yve' 'Zhask' 'Zilong']\n",
      "114\n"
     ]
    }
   ],
   "source": [
    "# Ensure that there are no repeated names\n",
    "print(dataset_df[\"Name\"].unique())\n",
    "print(len(dataset_df[\"Name\"].unique()))"
   ]
  },
  {
   "cell_type": "code",
   "execution_count": 68,
   "id": "4bbbc108",
   "metadata": {},
   "outputs": [
    {
     "data": {
      "text/plain": [
       "array(['Assassin', 'Tank', 'Fighter', 'Mage', 'Support', 'Marksman'],\n",
       "      dtype=object)"
      ]
     },
     "execution_count": 68,
     "metadata": {},
     "output_type": "execute_result"
    }
   ],
   "source": [
    "# Check the classes in Primary Role column\n",
    "dataset_df[\"Primary_Role\"].unique()"
   ]
  },
  {
   "cell_type": "code",
   "execution_count": 69,
   "id": "fefb5eea",
   "metadata": {},
   "outputs": [
    {
     "data": {
      "text/plain": [
       "array(['Jungler', 'Roamer', 'EXP Lane', 'Mid', 'Gold Lane'], dtype=object)"
      ]
     },
     "execution_count": 69,
     "metadata": {},
     "output_type": "execute_result"
    }
   ],
   "source": [
    "# Check the classes in Lane column\n",
    "dataset_df[\"Lane\"].unique()"
   ]
  },
  {
   "cell_type": "markdown",
   "id": "4095fdf0",
   "metadata": {},
   "source": [
    "Creating more 3 columns (features) with informations about the total number of times that the champion was picked on the eSports competition, as well as their win rate and lose rate percentage."
   ]
  },
  {
   "cell_type": "code",
   "execution_count": 70,
   "id": "dae8e19d",
   "metadata": {},
   "outputs": [
    {
     "data": {
      "text/html": [
       "<div>\n",
       "<style scoped>\n",
       "    .dataframe tbody tr th:only-of-type {\n",
       "        vertical-align: middle;\n",
       "    }\n",
       "\n",
       "    .dataframe tbody tr th {\n",
       "        vertical-align: top;\n",
       "    }\n",
       "\n",
       "    .dataframe thead th {\n",
       "        text-align: right;\n",
       "    }\n",
       "</style>\n",
       "<table border=\"1\" class=\"dataframe\">\n",
       "  <thead>\n",
       "    <tr style=\"text-align: right;\">\n",
       "      <th></th>\n",
       "      <th>Name</th>\n",
       "      <th>Release_Date</th>\n",
       "      <th>Primary_Role</th>\n",
       "      <th>Lane</th>\n",
       "      <th>Hp</th>\n",
       "      <th>Hp_Regen</th>\n",
       "      <th>Mana</th>\n",
       "      <th>Mana_Regen</th>\n",
       "      <th>Phy_Damage</th>\n",
       "      <th>Phy_Defence</th>\n",
       "      <th>Mag_Defence</th>\n",
       "      <th>Mov_Speed</th>\n",
       "      <th>Esport_Wins</th>\n",
       "      <th>Esport_Loss</th>\n",
       "      <th>Total_Esport_Picks</th>\n",
       "      <th>Esport_Win_rate</th>\n",
       "      <th>Esport_Lose_rate</th>\n",
       "    </tr>\n",
       "  </thead>\n",
       "  <tbody>\n",
       "    <tr>\n",
       "      <th>109</th>\n",
       "      <td>Yi_Sun-Shin</td>\n",
       "      <td>2017</td>\n",
       "      <td>Assassin</td>\n",
       "      <td>Jungler</td>\n",
       "      <td>2570</td>\n",
       "      <td>7.2</td>\n",
       "      <td>438</td>\n",
       "      <td>15.0</td>\n",
       "      <td>100</td>\n",
       "      <td>22</td>\n",
       "      <td>15</td>\n",
       "      <td>250</td>\n",
       "      <td>443</td>\n",
       "      <td>383</td>\n",
       "      <td>826</td>\n",
       "      <td>53.631961</td>\n",
       "      <td>46.368039</td>\n",
       "    </tr>\n",
       "    <tr>\n",
       "      <th>110</th>\n",
       "      <td>Yu_Zhong</td>\n",
       "      <td>6/19/2020</td>\n",
       "      <td>Fighter</td>\n",
       "      <td>EXP Lane</td>\n",
       "      <td>2698</td>\n",
       "      <td>11.8</td>\n",
       "      <td>0</td>\n",
       "      <td>0.0</td>\n",
       "      <td>129</td>\n",
       "      <td>21</td>\n",
       "      <td>15</td>\n",
       "      <td>245</td>\n",
       "      <td>550</td>\n",
       "      <td>594</td>\n",
       "      <td>1144</td>\n",
       "      <td>48.076923</td>\n",
       "      <td>51.923077</td>\n",
       "    </tr>\n",
       "    <tr>\n",
       "      <th>111</th>\n",
       "      <td>Yve</td>\n",
       "      <td>2/12/2021</td>\n",
       "      <td>Mage</td>\n",
       "      <td>Mid</td>\n",
       "      <td>2651</td>\n",
       "      <td>7.2</td>\n",
       "      <td>510</td>\n",
       "      <td>21.0</td>\n",
       "      <td>115</td>\n",
       "      <td>19</td>\n",
       "      <td>15</td>\n",
       "      <td>255</td>\n",
       "      <td>834</td>\n",
       "      <td>722</td>\n",
       "      <td>1556</td>\n",
       "      <td>53.598972</td>\n",
       "      <td>46.401028</td>\n",
       "    </tr>\n",
       "    <tr>\n",
       "      <th>112</th>\n",
       "      <td>Zhask</td>\n",
       "      <td>11/27/2017</td>\n",
       "      <td>Mage</td>\n",
       "      <td>Mid</td>\n",
       "      <td>2401</td>\n",
       "      <td>6.8</td>\n",
       "      <td>490</td>\n",
       "      <td>20.0</td>\n",
       "      <td>107</td>\n",
       "      <td>15</td>\n",
       "      <td>15</td>\n",
       "      <td>240</td>\n",
       "      <td>37</td>\n",
       "      <td>46</td>\n",
       "      <td>83</td>\n",
       "      <td>44.578313</td>\n",
       "      <td>55.421687</td>\n",
       "    </tr>\n",
       "    <tr>\n",
       "      <th>113</th>\n",
       "      <td>Zilong</td>\n",
       "      <td>2016</td>\n",
       "      <td>Fighter</td>\n",
       "      <td>Gold Lane</td>\n",
       "      <td>2689</td>\n",
       "      <td>7.0</td>\n",
       "      <td>405</td>\n",
       "      <td>16.0</td>\n",
       "      <td>123</td>\n",
       "      <td>25</td>\n",
       "      <td>15</td>\n",
       "      <td>265</td>\n",
       "      <td>5</td>\n",
       "      <td>23</td>\n",
       "      <td>28</td>\n",
       "      <td>17.857143</td>\n",
       "      <td>82.142857</td>\n",
       "    </tr>\n",
       "  </tbody>\n",
       "</table>\n",
       "</div>"
      ],
      "text/plain": [
       "            Name Release_Date Primary_Role       Lane    Hp  Hp_Regen  Mana  \\\n",
       "109  Yi_Sun-Shin         2017     Assassin    Jungler  2570       7.2   438   \n",
       "110     Yu_Zhong    6/19/2020      Fighter   EXP Lane  2698      11.8     0   \n",
       "111          Yve    2/12/2021         Mage        Mid  2651       7.2   510   \n",
       "112        Zhask   11/27/2017         Mage        Mid  2401       6.8   490   \n",
       "113       Zilong         2016      Fighter  Gold Lane  2689       7.0   405   \n",
       "\n",
       "     Mana_Regen  Phy_Damage  Phy_Defence  Mag_Defence  Mov_Speed  Esport_Wins  \\\n",
       "109        15.0         100           22           15        250          443   \n",
       "110         0.0         129           21           15        245          550   \n",
       "111        21.0         115           19           15        255          834   \n",
       "112        20.0         107           15           15        240           37   \n",
       "113        16.0         123           25           15        265            5   \n",
       "\n",
       "     Esport_Loss  Total_Esport_Picks  Esport_Win_rate  Esport_Lose_rate  \n",
       "109          383                 826        53.631961         46.368039  \n",
       "110          594                1144        48.076923         51.923077  \n",
       "111          722                1556        53.598972         46.401028  \n",
       "112           46                  83        44.578313         55.421687  \n",
       "113           23                  28        17.857143         82.142857  "
      ]
     },
     "execution_count": 70,
     "metadata": {},
     "output_type": "execute_result"
    }
   ],
   "source": [
    "# Add more information and visualize the data\n",
    "dataset_df[\"Total_Esport_Picks\"] = dataset_df['Esport_Wins'] + dataset_df['Esport_Loss']\n",
    "dataset_df[\"Esport_Win_rate\"] = (dataset_df['Esport_Wins'] / dataset_df['Total_Esport_Picks'])*100\n",
    "dataset_df[\"Esport_Lose_rate\"] = (dataset_df['Esport_Loss'] / dataset_df['Total_Esport_Picks'])*100\n",
    "dataset_df.tail()"
   ]
  },
  {
   "cell_type": "code",
   "execution_count": 71,
   "id": "9d38c48c",
   "metadata": {},
   "outputs": [
    {
     "data": {
      "text/plain": [
       "Index(['Name', 'Release_Date', 'Primary_Role', 'Lane', 'Hp', 'Hp_Regen',\n",
       "       'Mana', 'Mana_Regen', 'Phy_Damage', 'Phy_Defence', 'Mag_Defence',\n",
       "       'Mov_Speed', 'Esport_Wins', 'Esport_Loss', 'Total_Esport_Picks',\n",
       "       'Esport_Win_rate', 'Esport_Lose_rate'],\n",
       "      dtype='object')"
      ]
     },
     "execution_count": 71,
     "metadata": {},
     "output_type": "execute_result"
    }
   ],
   "source": [
    "# Check all the features \n",
    "dataset_df.columns"
   ]
  },
  {
   "cell_type": "markdown",
   "id": "db585acb",
   "metadata": {},
   "source": [
    "### Data visualization and exploration\n",
    "In order to continue the data analysis, the data were visualised for a better understanding."
   ]
  },
  {
   "cell_type": "markdown",
   "id": "a97464bd",
   "metadata": {},
   "source": [
    "#### Correlation between basic champions stats\n",
    "\n",
    "The correlation between all the basic champions statistics was computed and the heatmap with the correlations values are shown below. Just a half ot the heatmap is presented, because the correlation matrix is symetric which means that the values in the lower and upper triangle are the same. "
   ]
  },
  {
   "cell_type": "code",
   "execution_count": 72,
   "id": "c324f302",
   "metadata": {},
   "outputs": [
    {
     "data": {
      "image/png": "[encoded data removed]",
      "text/plain": [
       "<Figure size 1200x1000 with 2 Axes>"
      ]
     },
     "metadata": {},
     "output_type": "display_data"
    }
   ],
   "source": [
    "# Select the variables to be in the correlation matrix\n",
    "champ_stats = ['Hp', 'Hp_Regen', 'Mana', 'Mana_Regen', 'Phy_Damage', 'Phy_Defence', 'Mag_Defence', 'Mov_Speed']\n",
    "\n",
    "# Compute the correlation matrix\n",
    "correlation_matrix = dataset_df[champ_stats].corr()\n",
    "\n",
    "# Plot a heatmap of the lower triangle of the correlation matrix\n",
    "plt.figure(figsize=(12, 10))\n",
    "sns.heatmap(correlation_matrix, annot=True, cmap='coolwarm', center=0, mask=np.triu(correlation_matrix))\n",
    "plt.title('Correlation Heatmap of the basic stats (Lower Triangle)')\n",
    "plt.show()"
   ]
  },
  {
   "cell_type": "markdown",
   "id": "14194f6b",
   "metadata": {},
   "source": [
    "#### Relationship between the champion Lane and his points of life, Hp\n",
    "\n",
    "The next visualisation represented below is a boxplot to interpret the relationship and distribution of each champion's life points, Hp, with its corresponding lane, where, in this type of games, they have a strong relation. It is expected then that, generally, lanes such as Roamer and EXP have higher values, and the gold lane lower values.\n",
    "The boxplot give us information about possible champions that are beyond the upper and lower limits of the boxplot, so they could be outliers and the lane corresponding to the champion is not theirs, they could be also champions that use different hp systems, or even normal cases.  "
   ]
  },
  {
   "cell_type": "code",
   "execution_count": 73,
   "id": "26955308",
   "metadata": {},
   "outputs": [
    {
     "data": {
      "image/png": "[encoded data removed]",
      "text/plain": [
       "<Figure size 1500x1000 with 1 Axes>"
      ]
     },
     "metadata": {},
     "output_type": "display_data"
    }
   ],
   "source": [
    "plt.figure(figsize=(15, 10))\n",
    "sns.boxplot(x='Lane', y='Hp', data=dataset_df)\n",
    "plt.title('Distribution of Hp across Lanes')\n",
    "plt.xlabel('Lane')\n",
    "plt.ylabel('Hp (Life)')\n",
    "plt.xticks(rotation=45)\n",
    "plt.tight_layout()          \n",
    "plt.show()"
   ]
  },
  {
   "cell_type": "markdown",
   "id": "3722e501",
   "metadata": {},
   "source": [
    "It is visible that for each Lane there are cases outside the Interquartil, maximum and minimum ranges, so I proceeded to understand and analyze these cases. For a better visualization and fast checking I decided to plot horizontal lines to define the regions of interest."
   ]
  },
  {
   "cell_type": "code",
   "execution_count": 74,
   "id": "819bcd74",
   "metadata": {},
   "outputs": [
    {
     "data": {
      "image/png": "[encoded data removed]",
      "text/plain": [
       "<Figure size 1500x1000 with 1 Axes>"
      ]
     },
     "metadata": {},
     "output_type": "display_data"
    }
   ],
   "source": [
    "# Boxplot\n",
    "plt.figure(figsize=(15, 10))\n",
    "sns.boxplot(x='Lane', y='Hp', data=dataset_df)\n",
    "plt.title('Distribution of Hp across Lanes')\n",
    "plt.xlabel('Lane')\n",
    "plt.ylabel('Hp (Life)')\n",
    "plt.xticks(rotation=45)\n",
    "\n",
    "# EXP Lane\n",
    "plt.axhline(y=950, color='red', linestyle='--')\n",
    "\n",
    "plt.axhline(y=2020, color='blue', linestyle='--')\n",
    "plt.axhline(y=2060, color='blue', linestyle='--')\n",
    "\n",
    "# Mid Lane\n",
    "plt.axhline(y=2320, color='green', linestyle='--')\n",
    "plt.axhline(y=2280, color='green', linestyle='--')\n",
    "\n",
    "# Gold Lane\n",
    "plt.axhline(y=2650, color='green', linestyle='--')\n",
    "plt.axhline(y=2750, color='green', linestyle='--')\n",
    "\n",
    "# Jungle Lane\n",
    "plt.axhline(y=2450, color='red', linestyle='--')\n",
    "plt.axhline(y=2350, color='red', linestyle='--')\n",
    "\n",
    "plt.axhline(y=2700, color='red', linestyle='--')\n",
    "plt.axhline(y=2780, color='red', linestyle='--')\n",
    " \n",
    "plt.tight_layout()          \n",
    "plt.show()"
   ]
  },
  {
   "cell_type": "markdown",
   "id": "cf8809da",
   "metadata": {},
   "source": [
    "The results of the analysis are shown below:"
   ]
  },
  {
   "cell_type": "code",
   "execution_count": 75,
   "id": "f26d4f01",
   "metadata": {},
   "outputs": [
    {
     "data": {
      "text/plain": [
       "107    X.Borg\n",
       "Name: Name, dtype: object"
      ]
     },
     "execution_count": 75,
     "metadata": {},
     "output_type": "execute_result"
    }
   ],
   "source": [
    "dataset_df.loc[(dataset_df['Hp']<950) & (dataset_df['Lane'] == 'EXP Lane'), 'Name']"
   ]
  },
  {
   "cell_type": "markdown",
   "id": "5b57a82c",
   "metadata": {},
   "source": [
    "X.Borg has less Hp because he uses a different Hp system which is a combination of Hp and Armor Hp."
   ]
  },
  {
   "cell_type": "code",
   "execution_count": 76,
   "id": "47911822",
   "metadata": {},
   "outputs": [
    {
     "data": {
      "text/plain": [
       "79    Masha\n",
       "Name: Name, dtype: object"
      ]
     },
     "execution_count": 76,
     "metadata": {},
     "output_type": "execute_result"
    }
   ],
   "source": [
    "dataset_df.loc[(dataset_df['Hp']>2020) & (dataset_df['Hp']<2060) & (dataset_df['Lane'] == 'EXP Lane'), 'Name']"
   ]
  },
  {
   "cell_type": "markdown",
   "id": "474ab8d4",
   "metadata": {},
   "source": [
    "Masha is one of the champions that has more than one Hp bar, so the value outside the box is way of equilibrium."
   ]
  },
  {
   "cell_type": "code",
   "execution_count": 77,
   "id": "6e89722f",
   "metadata": {},
   "outputs": [
    {
     "data": {
      "text/plain": [
       "23    Chang'e\n",
       "Name: Name, dtype: object"
      ]
     },
     "execution_count": 77,
     "metadata": {},
     "output_type": "execute_result"
    }
   ],
   "source": [
    "dataset_df.loc[(dataset_df['Hp']>2280) & (dataset_df['Hp']<2320) & (dataset_df['Lane'] == 'Mid'), 'Name']"
   ]
  },
  {
   "cell_type": "markdown",
   "id": "826f2c7f",
   "metadata": {},
   "source": [
    "Everything alright with Chang'e.\n"
   ]
  },
  {
   "cell_type": "code",
   "execution_count": 78,
   "id": "8dc146e7",
   "metadata": {},
   "outputs": [
    {
     "data": {
      "text/plain": [
       "24       Chou\n",
       "113    Zilong\n",
       "Name: Name, dtype: object"
      ]
     },
     "execution_count": 78,
     "metadata": {},
     "output_type": "execute_result"
    }
   ],
   "source": [
    "dataset_df.loc[(dataset_df['Hp']>2650) & (dataset_df['Hp']<2750) & (dataset_df['Lane'] == 'Gold Lane'), 'Name']"
   ]
  },
  {
   "cell_type": "markdown",
   "id": "d7fd832e",
   "metadata": {},
   "source": [
    "Zilong and Chou are outliers in the Gold Lane. They both belong to the EXP Lane. (based on the official Mobile Legends site) "
   ]
  },
  {
   "cell_type": "code",
   "execution_count": 79,
   "id": "61cc6651",
   "metadata": {},
   "outputs": [
    {
     "data": {
      "text/plain": [
       "51    Hayabusa\n",
       "96      Selena\n",
       "Name: Name, dtype: object"
      ]
     },
     "execution_count": 79,
     "metadata": {},
     "output_type": "execute_result"
    }
   ],
   "source": [
    "dataset_df.loc[(dataset_df['Hp']>2350) & (dataset_df['Hp']<2450) & (dataset_df['Lane'] == 'Jungler'), 'Name']"
   ]
  },
  {
   "cell_type": "markdown",
   "id": "10fa1046",
   "metadata": {},
   "source": [
    "Everything alright with Hayabusa and Selena."
   ]
  },
  {
   "cell_type": "code",
   "execution_count": 80,
   "id": "cb009d93",
   "metadata": {},
   "outputs": [
    {
     "data": {
      "text/plain": [
       "15    Baxia\n",
       "94    Roger\n",
       "Name: Name, dtype: object"
      ]
     },
     "execution_count": 80,
     "metadata": {},
     "output_type": "execute_result"
    }
   ],
   "source": [
    "dataset_df.loc[(dataset_df['Hp']>2700) & (dataset_df['Hp']<2780) & (dataset_df['Lane'] == 'Jungler'), 'Name']"
   ]
  },
  {
   "cell_type": "markdown",
   "id": "d660d598",
   "metadata": {},
   "source": [
    "Baxia and Roger are outliers in the Jungle Laner. Baxia is Roamer and Roger belongs to the Jungle Lane. (based on the official Mobile Legends site) \n"
   ]
  },
  {
   "cell_type": "markdown",
   "id": "cc5c352c",
   "metadata": {},
   "source": [
    "Given the results, there were outliers on each Lanes, so the true Lanes were updated for Zilong, Chou, Baxia and Roger."
   ]
  },
  {
   "cell_type": "code",
   "execution_count": 81,
   "id": "bcd35321",
   "metadata": {},
   "outputs": [],
   "source": [
    "# Get the index of Zilong and Chou in the dataset\n",
    "zilong_idx = dataset_df[dataset_df['Name'] == 'Zilong'].index\n",
    "chou_idx = dataset_df[dataset_df['Name'] == 'Chou'].index\n",
    "new_lane_value = 'EXP Lane' \n",
    "\n",
    "# Update the correct lane for each champion\n",
    "dataset_df.loc[zilong_idx, 'Lane'] = new_lane_value\n",
    "dataset_df.loc[chou_idx, 'Lane'] = new_lane_value\n",
    "\n",
    "# Get the index of Zilong and Chou in the dataset\n",
    "baxia_idx = dataset_df[dataset_df['Name'] == 'Baxia'].index\n",
    "roger_idx = dataset_df[dataset_df['Name'] == 'Roger'].index\n",
    "new_lane_baxia = 'Roamer' \n",
    "new_lane_roger = 'Jungler' \n",
    "\n",
    "# Update the correct lane for each champion\n",
    "dataset_df.loc[baxia_idx, 'Lane'] = new_lane_baxia\n",
    "dataset_df.loc[roger_idx, 'Lane'] = new_lane_roger"
   ]
  },
  {
   "cell_type": "markdown",
   "id": "2c8ec458",
   "metadata": {},
   "source": [
    "#### Total existing champions in each Lane\n",
    "Now that the champions have their Lane right, the number of champions per Lane was calculated, the bar plot displayed and the name of the champions aggruped by Lane."
   ]
  },
  {
   "cell_type": "code",
   "execution_count": 82,
   "id": "eb7cdaf9",
   "metadata": {
    "scrolled": true
   },
   "outputs": [
    {
     "name": "stdout",
     "output_type": "stream",
     "text": [
      "EXP Lane     36\n",
      "Mid          23\n",
      "Roamer       21\n",
      "Gold Lane    19\n",
      "Jungler      15\n",
      "Name: Lane, dtype: int64\n"
     ]
    }
   ],
   "source": [
    "# Count the nº of champions in each lane\n",
    "lane_count = dataset_df[\"Lane\"].value_counts()\n",
    "print(lane_count)"
   ]
  },
  {
   "cell_type": "code",
   "execution_count": 83,
   "id": "f5d63990",
   "metadata": {},
   "outputs": [
    {
     "data": {
      "image/png": "[encoded data removed]",
      "text/plain": [
       "<Figure size 640x480 with 1 Axes>"
      ]
     },
     "metadata": {},
     "output_type": "display_data"
    }
   ],
   "source": [
    "# Bar Plot\n",
    "lane_count.plot(kind='bar')\n",
    "plt.show()"
   ]
  },
  {
   "cell_type": "code",
   "execution_count": 84,
   "id": "afc61f2a",
   "metadata": {},
   "outputs": [
    {
     "name": "stdout",
     "output_type": "stream",
     "text": [
      "EXP Lane Champions:\n",
      "Aldous\n",
      "Alice\n",
      "Alpha\n",
      "Argus\n",
      "Aulus\n",
      "Badang\n",
      "Balmond\n",
      "Barats\n",
      "Benedetta\n",
      "Chou\n",
      "Dyrroth\n",
      "Esmeralda\n",
      "Edith\n",
      "Fredrinn\n",
      "Freya\n",
      "Hilda\n",
      "Jawhead\n",
      "Julian\n",
      "Kaja\n",
      "Khaleed\n",
      "Lapu-Lapu\n",
      "Leomord\n",
      "Martis\n",
      "Masha\n",
      "Minsitthar\n",
      "Phoveus\n",
      "Paquito\n",
      "Ruby\n",
      "Silvanna\n",
      "Terizla\n",
      "Thamuz\n",
      "Uranus\n",
      "X.Borg\n",
      "Yin\n",
      "Yu_Zhong\n",
      "Zilong\n",
      "36\n",
      "\n",
      "\n",
      "Gold Lane Champions:\n",
      "Beatrix\n",
      "Brody\n",
      "Bruno\n",
      "Claude\n",
      "Clint\n",
      "Granger\n",
      "Guinevere\n",
      "Hanabi\n",
      "Irithel\n",
      "Karrie\n",
      "Kimmy\n",
      "Layla\n",
      "Lesley\n",
      "Melissa\n",
      "Miya\n",
      "Moskov\n",
      "Natan\n",
      "Popol_and_Kupa\n",
      "Wanwan\n",
      "19\n",
      "\n",
      "\n",
      "Jungler Champions:\n",
      "Aamon\n",
      "Alucard\n",
      "Bane\n",
      "Fanny\n",
      "Gusion\n",
      "Hanzo\n",
      "Hayabusa\n",
      "Helcurt\n",
      "Karina\n",
      "Lancelot\n",
      "Ling\n",
      "Natalia\n",
      "Roger\n",
      "Selena\n",
      "Yi_Sun-Shin\n",
      "15\n",
      "\n",
      "\n",
      "Mid Champions:\n",
      "Aurora\n",
      "Cecilion\n",
      "Chang'e\n",
      "Cyclops\n",
      "Eudora\n",
      "Gord\n",
      "Harith\n",
      "Harley\n",
      "Kadita\n",
      "Kagura\n",
      "Lunox\n",
      "Luo_Yi\n",
      "Lylia\n",
      "Nana\n",
      "Odette\n",
      "Pharsa\n",
      "Vale\n",
      "Valentina\n",
      "Valir\n",
      "Vexana\n",
      "Xavier\n",
      "Yve\n",
      "Zhask\n",
      "23\n",
      "\n",
      "\n",
      "Roamer Champions:\n",
      "Akai\n",
      "Angela\n",
      "Atlas\n",
      "Baxia\n",
      "Belerick\n",
      "Carmilla\n",
      "Diggie\n",
      "Estes\n",
      "Faramis\n",
      "Floryn\n",
      "Franco\n",
      "Gatotkaca\n",
      "Gloo\n",
      "Grock\n",
      "Hylos\n",
      "Johnson\n",
      "Khufra\n",
      "Lolita\n",
      "Mathilda\n",
      "Minotaur\n",
      "Rafaela\n",
      "21\n",
      "\n",
      "\n"
     ]
    }
   ],
   "source": [
    "# Display the champion names for each lane.\n",
    "lanes = dataset_df.groupby('Lane')\n",
    "for lane, group in lanes:\n",
    "    print(f'{lane} Champions:')\n",
    "    for name in group['Name']:\n",
    "        print(name)\n",
    "    print(len(group['Name']))\n",
    "    print('\\n')"
   ]
  },
  {
   "cell_type": "markdown",
   "id": "4aefb7dc",
   "metadata": {},
   "source": [
    "#### Number of existing champions for each Primary Role\n",
    "In order to better understand the number of champions for each role (Fighter, Mage, Marksman, Tank, Assassin and Support) the graph of the distribution of primary roles as a function of the number of champions was displayed."
   ]
  },
  {
   "cell_type": "code",
   "execution_count": 85,
   "id": "299d89a2",
   "metadata": {},
   "outputs": [
    {
     "name": "stdout",
     "output_type": "stream",
     "text": [
      "Fighter     33\n",
      "Mage        25\n",
      "Marksman    18\n",
      "Tank        16\n",
      "Assassin    13\n",
      "Support      9\n",
      "Name: Primary_Role, dtype: int64\n"
     ]
    }
   ],
   "source": [
    "# Count the number of champions for each primary role\n",
    "role_counts = dataset_df['Primary_Role'].value_counts()\n",
    "print(role_counts)"
   ]
  },
  {
   "cell_type": "code",
   "execution_count": 86,
   "id": "b13e03c8",
   "metadata": {},
   "outputs": [
    {
     "data": {
      "image/png": "[encoded data removed]",
      "text/plain": [
       "<Figure size 1000x600 with 1 Axes>"
      ]
     },
     "metadata": {},
     "output_type": "display_data"
    }
   ],
   "source": [
    "# Bar plot\n",
    "plt.figure(figsize=(10, 6))\n",
    "role_counts.plot(kind='bar', color='skyblue')\n",
    "plt.title('Distribution of Primary Roles')\n",
    "plt.xlabel('Primary Role')\n",
    "plt.ylabel('Number of Champions')\n",
    "plt.xticks(rotation=45)\n",
    "plt.tight_layout()\n",
    "plt.show()"
   ]
  },
  {
   "cell_type": "markdown",
   "id": "6cd4b1d0",
   "metadata": {},
   "source": [
    "#### Relationship between the champions Lane and their Primary Role \n",
    "Similarly, it is interesting to evaluate the relationship between the lane of each hero and their primary role. Thus, since Lane and Primary Role are two categorical variables, the method chosen to evaluate the association between the two variables was the chi square test. To do this, I started by making the contigency table and, from there, to checked whether the two variables are related from the p-value and the result of the statistical test."
   ]
  },
  {
   "cell_type": "code",
   "execution_count": 87,
   "id": "68063128",
   "metadata": {
    "scrolled": true
   },
   "outputs": [
    {
     "name": "stdout",
     "output_type": "stream",
     "text": [
      "Primary_Role  Assassin  Fighter  Mage  Marksman  Support  Tank\n",
      "Lane                                                          \n",
      "EXP Lane             1       29     2         0        0     4\n",
      "Gold Lane            0        1     0        18        0     0\n",
      "Jungler             12        3     0         0        0     0\n",
      "Mid                  0        0    23         0        0     0\n",
      "Roamer               0        0     0         0        9    12\n",
      "Chi-Square Statistic: 367.6523898323898\n",
      "Critical Value: 31.410432844230918\n",
      "P-Value: 1.0159585806064069e-65\n",
      "\n",
      "H0 is rejected. There is a significant association between the two variales.\n"
     ]
    }
   ],
   "source": [
    "# Make the contigency table\n",
    "cont_table = pd.crosstab(dataset_df['Lane'], dataset_df['Primary_Role'])\n",
    "print(cont_table)\n",
    "\n",
    "# Compute the statistical test p value\n",
    "stat, p, dof, expected = ss.chi2_contingency(cont_table)\n",
    "critical = ss.chi2.ppf(0.95, dof)\n",
    "print(f\"Chi-Square Statistic: {stat}\")\n",
    "print(f\"Critical Value: {critical}\")\n",
    "print(f\"P-Value: {p}\\n\")\n",
    "\n",
    "# Conclusion\n",
    "if p < 0.05:\n",
    "    print(\"H0 is rejected. There is a significant association between the two variales.\")\n",
    "else:\n",
    "    print(\"H0 is not rejected. There is no significant association between the Lane and Primary Roles features.\")"
   ]
  },
  {
   "cell_type": "markdown",
   "id": "d7ec4d18",
   "metadata": {},
   "source": [
    "The heatmap of observed frequencies of the relation between the each Primary Role and each Lane is shown below: "
   ]
  },
  {
   "cell_type": "code",
   "execution_count": 88,
   "id": "044055d2",
   "metadata": {},
   "outputs": [
    {
     "data": {
      "image/png": "[encoded data removed]",
      "text/plain": [
       "<Figure size 1000x600 with 2 Axes>"
      ]
     },
     "metadata": {},
     "output_type": "display_data"
    }
   ],
   "source": [
    "# Heatmap \n",
    "plt.figure(figsize=(10, 6))\n",
    "sns.heatmap(cont_table, annot=True, fmt='d', cmap='YlGnBu')\n",
    "plt.title('Heatmap of Observed Frequencies')\n",
    "plt.xlabel('Primary Role')\n",
    "plt.ylabel('Lane')\n",
    "plt.tight_layout()\n",
    "plt.show()"
   ]
  },
  {
   "cell_type": "markdown",
   "id": "6f6a6f94",
   "metadata": {},
   "source": [
    "#### Mobile Legends tendency to launch champions\n",
    "One piece of information that was also extracted was the trend of new champions being released by mobile legends, per lane, over the years until 2022. "
   ]
  },
  {
   "cell_type": "code",
   "execution_count": 89,
   "id": "f10f6995",
   "metadata": {},
   "outputs": [
    {
     "name": "stdout",
     "output_type": "stream",
     "text": [
      "Lane          EXP Lane  Gold Lane  Jungler  Mid  Roamer\n",
      "Release_Date                                           \n",
      "2016               5.0        4.0      6.0  4.0     5.0\n",
      "2017               5.0        3.0      4.0  7.0     6.0\n",
      "2018               8.0        4.0      3.0  5.0     2.0\n",
      "2019               7.0        3.0      1.0  2.0     3.0\n",
      "2020               4.0        2.0      NaN  2.0     3.0\n",
      "2021               4.0        2.0      1.0  2.0     2.0\n",
      "2022               3.0        1.0      NaN  1.0     NaN\n"
     ]
    },
    {
     "data": {
      "text/plain": [
       "<Figure size 1200x600 with 0 Axes>"
      ]
     },
     "metadata": {},
     "output_type": "display_data"
    },
    {
     "data": {
      "image/png": "[encoded data removed]",
      "text/plain": [
       "<Figure size 640x480 with 1 Axes>"
      ]
     },
     "metadata": {},
     "output_type": "display_data"
    }
   ],
   "source": [
    "# Convert the Release_Date column into the date, time objects\n",
    "dataset_df['Release_Date'] = pd.to_datetime(dataset_df['Release_Date'])\n",
    "\n",
    "# Compute the number of champions per Lane per year \n",
    "lane_counts_by_year = dataset_df.pivot_table(index=dataset_df['Release_Date'].dt.year, columns='Lane', values='Name', aggfunc='count')\n",
    "print(lane_counts_by_year)\n",
    "\n",
    "# Plot the released champions evolution per Lane along the time\n",
    "plt.figure(figsize=(12, 6))\n",
    "lane_counts_by_year.plot(marker='o', markersize=8, linewidth=0, alpha=0.7)\n",
    "plt.title('Released Champions Evolution p/Lane Along The Time')\n",
    "plt.xlabel('Release Year')\n",
    "plt.ylabel('Number of released champions')\n",
    "plt.legend(title='Lane')\n",
    "plt.tight_layout()\n",
    "plt.show()"
   ]
  },
  {
   "cell_type": "markdown",
   "id": "7d17e03b",
   "metadata": {},
   "source": [
    "#### Mobile Legends release and first year champions\n",
    "From this moment on, the dataset is ready to be analyzed and to extract some relevant information. \n",
    "\n",
    "I first started by analyzing the champions (or heroes) by checking the release dates of each hero and extracting the information that the release date of the oldest hero would match when the game was released. With it, the information about the champions that were present in the first year of Mobile Legends (older champions) was also displayed."
   ]
  },
  {
   "cell_type": "code",
   "execution_count": 90,
   "id": "31ebc053",
   "metadata": {},
   "outputs": [
    {
     "name": "stdout",
     "output_type": "stream",
     "text": [
      "First year of Mobile Legends: 2016\n",
      "2016 Released Champions:\n",
      "\n",
      "         Name       Lane\n",
      "1        Akai     Roamer\n",
      "3       Alice   EXP Lane\n",
      "5     Alucard    Jungler\n",
      "12    Balmond   EXP Lane\n",
      "13       Bane    Jungler\n",
      "20      Bruno  Gold Lane\n",
      "24       Chou   EXP Lane\n",
      "26      Clint  Gold Lane\n",
      "33     Eudora        Mid\n",
      "34      Fanny    Jungler\n",
      "37     Franco     Roamer\n",
      "39      Freya   EXP Lane\n",
      "42       Gord        Mid\n",
      "51   Hayabusa    Jungler\n",
      "60     Kagura        Mid\n",
      "62     Karina    Jungler\n",
      "69      Layla  Gold Lane\n",
      "73     Lolita     Roamer\n",
      "81   Minotaur     Roamer\n",
      "83       Miya  Gold Lane\n",
      "85       Nana        Mid\n",
      "87    Natalia    Jungler\n",
      "93    Rafaela     Roamer\n",
      "113    Zilong   EXP Lane\n",
      "\n",
      "24 champions were released in 2016.\n",
      "Jungler      6\n",
      "Roamer       5\n",
      "EXP Lane     5\n",
      "Gold Lane    4\n",
      "Mid          4\n",
      "Name: Lane, dtype: int64\n"
     ]
    }
   ],
   "source": [
    "# Convert the Release_Date column into the date, time objects\n",
    "dataset_df['Release_Date'] = pd.to_datetime(dataset_df['Release_Date'])\n",
    "\n",
    "# Check the older date\n",
    "old_champion_date = dataset_df['Release_Date'].min()\n",
    "print(f'First year of Mobile Legends: {old_champion_date.year}')\n",
    "\n",
    "# Present the older champions Name and Lane\n",
    "print(\"2016 Released Champions:\\n\")\n",
    "older_champions = dataset_df[(dataset_df['Release_Date'].dt.year == 2016)]\n",
    "print(older_champions[['Name','Lane']])\n",
    "print(f'\\n{len(older_champions)} champions were released in 2016.')\n",
    "lane_counts = older_champions['Lane'].value_counts()\n",
    "print(lane_counts)"
   ]
  },
  {
   "cell_type": "markdown",
   "id": "2a496927",
   "metadata": {},
   "source": [
    "#### Most recent champion until 2022\n",
    "The name of the most recent champion for the year 2022 is also shown below:"
   ]
  },
  {
   "cell_type": "code",
   "execution_count": 91,
   "id": "2bb24373",
   "metadata": {},
   "outputs": [
    {
     "name": "stdout",
     "output_type": "stream",
     "text": [
      "Fredrinn is the most recent champion and it was released in 2022-08-12.\n"
     ]
    }
   ],
   "source": [
    "# Convert the Release_Date column into the date, time objects\n",
    "dataset_df['Release_Date'] = pd.to_datetime(dataset_df['Release_Date'])\n",
    "\n",
    "# Check the most recent date\n",
    "newest_champion_date = dataset_df['Release_Date'].max()\n",
    "\n",
    "# Present the most recent champion\n",
    "newest_champion_date = newest_champion_date.strftime('%Y-%m-%d')\n",
    "newest_champion_name = dataset_df.loc[dataset_df['Release_Date'] == newest_champion_date, 'Name'].values[0]\n",
    "print(f'{newest_champion_name} is the most recent champion and it was released in {newest_champion_date}.')"
   ]
  },
  {
   "cell_type": "markdown",
   "id": "d24ccd41",
   "metadata": {},
   "source": [
    "#### Best and Worst basic attack champion\n",
    "I decided to analyze, as a curiosity, the champion that takes more damage and less damage from basic attacks. Since these are only the basic attacks, this information may not be very relevant."
   ]
  },
  {
   "cell_type": "code",
   "execution_count": 92,
   "id": "0ac97f66",
   "metadata": {},
   "outputs": [
    {
     "name": "stdout",
     "output_type": "stream",
     "text": [
      "Champion with the best Basic Attack: Bruno | Champion with the worst Basic Attack: Aulus\n"
     ]
    }
   ],
   "source": [
    "# Check maximum value of Physical Damage\n",
    "max_dmg_id = dataset_df[\"Phy_Damage\"].idxmax()\n",
    "# Check minimum value of Physical Damage\n",
    "min_dmg_id = dataset_df[\"Phy_Damage\"].idxmin()\n",
    "print(\"Champion with the best Basic Attack:\", dataset_df.loc[max_dmg_id, 'Name'], \"| Champion with the worst Basic Attack:\", dataset_df.loc[min_dmg_id, 'Name'])"
   ]
  },
  {
   "cell_type": "code",
   "execution_count": 93,
   "id": "78fc7537",
   "metadata": {},
   "outputs": [
    {
     "data": {
      "text/plain": [
       "Name                                Bruno\n",
       "Release_Date          2016-01-01 00:00:00\n",
       "Primary_Role                     Marksman\n",
       "Lane                            Gold Lane\n",
       "Hp                                   2522\n",
       "Hp_Regen                              6.0\n",
       "Mana                                  439\n",
       "Mana_Regen                           15.0\n",
       "Phy_Damage                            140\n",
       "Phy_Defence                            17\n",
       "Mag_Defence                            15\n",
       "Mov_Speed                             240\n",
       "Esport_Wins                           154\n",
       "Esport_Loss                           154\n",
       "Total_Esport_Picks                    308\n",
       "Esport_Win_rate                      50.0\n",
       "Esport_Lose_rate                     50.0\n",
       "Name: 20, dtype: object"
      ]
     },
     "execution_count": 93,
     "metadata": {},
     "output_type": "execute_result"
    }
   ],
   "source": [
    "# Check the best basic attack champion stats\n",
    "dataset_df.loc[max_dmg_id]"
   ]
  },
  {
   "cell_type": "code",
   "execution_count": 94,
   "id": "c8d869e2",
   "metadata": {
    "scrolled": true
   },
   "outputs": [
    {
     "data": {
      "text/plain": [
       "Name                                Aulus\n",
       "Release_Date          2021-08-31 00:00:00\n",
       "Primary_Role                      Fighter\n",
       "Lane                             EXP Lane\n",
       "Hp                                   2758\n",
       "Hp_Regen                             10.2\n",
       "Mana                                  410\n",
       "Mana_Regen                           17.0\n",
       "Phy_Damage                             90\n",
       "Phy_Defence                            24\n",
       "Mag_Defence                            15\n",
       "Mov_Speed                             255\n",
       "Esport_Wins                           114\n",
       "Esport_Loss                           109\n",
       "Total_Esport_Picks                    223\n",
       "Esport_Win_rate                 51.121076\n",
       "Esport_Lose_rate                48.878924\n",
       "Name: 10, dtype: object"
      ]
     },
     "execution_count": 94,
     "metadata": {},
     "output_type": "execute_result"
    }
   ],
   "source": [
    "# Check the worst basic attack champion stats\n",
    "dataset_df.loc[min_dmg_id]"
   ]
  },
  {
   "cell_type": "markdown",
   "id": "6a3b4fb8",
   "metadata": {},
   "source": [
    "#### Champions that don't use Mana\n",
    "Many players, similarly to League of Legends, prefer to play with champions that do not use mana. Therefore, this information was extracted from the dataset, as well as the lanes to which the heroes correspond."
   ]
  },
  {
   "cell_type": "code",
   "execution_count": 95,
   "id": "07022a57",
   "metadata": {},
   "outputs": [
    {
     "data": {
      "text/html": [
       "<div>\n",
       "<style scoped>\n",
       "    .dataframe tbody tr th:only-of-type {\n",
       "        vertical-align: middle;\n",
       "    }\n",
       "\n",
       "    .dataframe tbody tr th {\n",
       "        vertical-align: top;\n",
       "    }\n",
       "\n",
       "    .dataframe thead th {\n",
       "        text-align: right;\n",
       "    }\n",
       "</style>\n",
       "<table border=\"1\" class=\"dataframe\">\n",
       "  <thead>\n",
       "    <tr style=\"text-align: right;\">\n",
       "      <th></th>\n",
       "      <th>Name</th>\n",
       "      <th>Lane</th>\n",
       "    </tr>\n",
       "  </thead>\n",
       "  <tbody>\n",
       "    <tr>\n",
       "      <th>5</th>\n",
       "      <td>Alucard</td>\n",
       "      <td>Jungler</td>\n",
       "    </tr>\n",
       "    <tr>\n",
       "      <th>7</th>\n",
       "      <td>Argus</td>\n",
       "      <td>EXP Lane</td>\n",
       "    </tr>\n",
       "    <tr>\n",
       "      <th>11</th>\n",
       "      <td>Badang</td>\n",
       "      <td>EXP Lane</td>\n",
       "    </tr>\n",
       "    <tr>\n",
       "      <th>12</th>\n",
       "      <td>Balmond</td>\n",
       "      <td>EXP Lane</td>\n",
       "    </tr>\n",
       "    <tr>\n",
       "      <th>16</th>\n",
       "      <td>Beatrix</td>\n",
       "      <td>Gold Lane</td>\n",
       "    </tr>\n",
       "    <tr>\n",
       "      <th>24</th>\n",
       "      <td>Chou</td>\n",
       "      <td>EXP Lane</td>\n",
       "    </tr>\n",
       "    <tr>\n",
       "      <th>29</th>\n",
       "      <td>Dyrroth</td>\n",
       "      <td>EXP Lane</td>\n",
       "    </tr>\n",
       "    <tr>\n",
       "      <th>31</th>\n",
       "      <td>Edith</td>\n",
       "      <td>EXP Lane</td>\n",
       "    </tr>\n",
       "    <tr>\n",
       "      <th>38</th>\n",
       "      <td>Fredrinn</td>\n",
       "      <td>EXP Lane</td>\n",
       "    </tr>\n",
       "    <tr>\n",
       "      <th>39</th>\n",
       "      <td>Freya</td>\n",
       "      <td>EXP Lane</td>\n",
       "    </tr>\n",
       "    <tr>\n",
       "      <th>40</th>\n",
       "      <td>Gatotkaca</td>\n",
       "      <td>Roamer</td>\n",
       "    </tr>\n",
       "    <tr>\n",
       "      <th>43</th>\n",
       "      <td>Granger</td>\n",
       "      <td>Gold Lane</td>\n",
       "    </tr>\n",
       "    <tr>\n",
       "      <th>45</th>\n",
       "      <td>Guinevere</td>\n",
       "      <td>Gold Lane</td>\n",
       "    </tr>\n",
       "    <tr>\n",
       "      <th>48</th>\n",
       "      <td>Hanzo</td>\n",
       "      <td>Jungler</td>\n",
       "    </tr>\n",
       "    <tr>\n",
       "      <th>53</th>\n",
       "      <td>Hilda</td>\n",
       "      <td>EXP Lane</td>\n",
       "    </tr>\n",
       "    <tr>\n",
       "      <th>55</th>\n",
       "      <td>Irithel</td>\n",
       "      <td>Gold Lane</td>\n",
       "    </tr>\n",
       "    <tr>\n",
       "      <th>57</th>\n",
       "      <td>Johnson</td>\n",
       "      <td>Roamer</td>\n",
       "    </tr>\n",
       "    <tr>\n",
       "      <th>64</th>\n",
       "      <td>Khaleed</td>\n",
       "      <td>EXP Lane</td>\n",
       "    </tr>\n",
       "    <tr>\n",
       "      <th>68</th>\n",
       "      <td>Lapu-Lapu</td>\n",
       "      <td>EXP Lane</td>\n",
       "    </tr>\n",
       "    <tr>\n",
       "      <th>70</th>\n",
       "      <td>Leomord</td>\n",
       "      <td>EXP Lane</td>\n",
       "    </tr>\n",
       "    <tr>\n",
       "      <th>78</th>\n",
       "      <td>Martis</td>\n",
       "      <td>EXP Lane</td>\n",
       "    </tr>\n",
       "    <tr>\n",
       "      <th>79</th>\n",
       "      <td>Masha</td>\n",
       "      <td>EXP Lane</td>\n",
       "    </tr>\n",
       "    <tr>\n",
       "      <th>81</th>\n",
       "      <td>Minotaur</td>\n",
       "      <td>Roamer</td>\n",
       "    </tr>\n",
       "    <tr>\n",
       "      <th>92</th>\n",
       "      <td>Paquito</td>\n",
       "      <td>EXP Lane</td>\n",
       "    </tr>\n",
       "    <tr>\n",
       "      <th>99</th>\n",
       "      <td>Thamuz</td>\n",
       "      <td>EXP Lane</td>\n",
       "    </tr>\n",
       "    <tr>\n",
       "      <th>107</th>\n",
       "      <td>X.Borg</td>\n",
       "      <td>EXP Lane</td>\n",
       "    </tr>\n",
       "    <tr>\n",
       "      <th>108</th>\n",
       "      <td>Yin</td>\n",
       "      <td>EXP Lane</td>\n",
       "    </tr>\n",
       "    <tr>\n",
       "      <th>110</th>\n",
       "      <td>Yu_Zhong</td>\n",
       "      <td>EXP Lane</td>\n",
       "    </tr>\n",
       "  </tbody>\n",
       "</table>\n",
       "</div>"
      ],
      "text/plain": [
       "          Name       Lane\n",
       "5      Alucard    Jungler\n",
       "7        Argus   EXP Lane\n",
       "11      Badang   EXP Lane\n",
       "12     Balmond   EXP Lane\n",
       "16     Beatrix  Gold Lane\n",
       "24        Chou   EXP Lane\n",
       "29     Dyrroth   EXP Lane\n",
       "31       Edith   EXP Lane\n",
       "38    Fredrinn   EXP Lane\n",
       "39       Freya   EXP Lane\n",
       "40   Gatotkaca     Roamer\n",
       "43     Granger  Gold Lane\n",
       "45   Guinevere  Gold Lane\n",
       "48       Hanzo    Jungler\n",
       "53       Hilda   EXP Lane\n",
       "55     Irithel  Gold Lane\n",
       "57     Johnson     Roamer\n",
       "64     Khaleed   EXP Lane\n",
       "68   Lapu-Lapu   EXP Lane\n",
       "70     Leomord   EXP Lane\n",
       "78      Martis   EXP Lane\n",
       "79       Masha   EXP Lane\n",
       "81    Minotaur     Roamer\n",
       "92     Paquito   EXP Lane\n",
       "99      Thamuz   EXP Lane\n",
       "107     X.Borg   EXP Lane\n",
       "108        Yin   EXP Lane\n",
       "110   Yu_Zhong   EXP Lane"
      ]
     },
     "execution_count": 95,
     "metadata": {},
     "output_type": "execute_result"
    }
   ],
   "source": [
    "dataset_df.loc[dataset_df[\"Mana\"]== 0, ['Name', 'Lane']]"
   ]
  },
  {
   "cell_type": "markdown",
   "id": "27e2e887",
   "metadata": {},
   "source": [
    "### Esports analysis\n",
    "In this sub-section, information has been extracted regarding pro players, the world of esports: \n",
    "* Most and less picked champion by pro players\n",
    "* Champions chosen above and below the mean of total picks.\n",
    "* Above mean played champions with the highest win rate.\n",
    "* Above mean played champions with the lowest win rate.\n",
    "* Below mean played champions with the highest win rate.\n",
    "* Below mean played champions with the lowest win rate.\n",
    "* Relationship between the pro players champion picks and the champion release date"
   ]
  },
  {
   "cell_type": "markdown",
   "id": "f8f3fc8e",
   "metadata": {},
   "source": [
    "#### Most and less picked champion by pro players\n",
    "This information is very useful for players who are interested in the game at any level. The esports and professional scene is always a great reference for any player. Thus, within the column created by me (Total Esport Picks) it was only necessary to extract the maximum and minimum value."
   ]
  },
  {
   "cell_type": "code",
   "execution_count": 96,
   "id": "b3996516",
   "metadata": {},
   "outputs": [
    {
     "name": "stdout",
     "output_type": "stream",
     "text": [
      "Champion most picked by pro players: Esmeralda | Champion less picked by pro players: Fredrinn\n"
     ]
    }
   ],
   "source": [
    "# Check the maximum number of Total Esport Picks\n",
    "esp_total_max = dataset_df[\"Total_Esport_Picks\"].idxmax()\n",
    "# Check the minimum number of Total Esport Picks\n",
    "esp_total_min = dataset_df[\"Total_Esport_Picks\"].idxmin()\n",
    "print(\"Champion most picked by pro players:\", dataset_df.loc[esp_total_max, 'Name'], \"| Champion less picked by pro players:\", dataset_df.loc[esp_total_min, 'Name'])"
   ]
  },
  {
   "cell_type": "markdown",
   "id": "fb35ea95",
   "metadata": {},
   "source": [
    "#### Champions chosen above and below the mean of total picks.\n",
    "For this part it was necessary to first calculate the average number of the total number of times the champions were chosen. Thus, it was possible to arrange the average reference, to indicate the name of the champions / heroes that are chosen with more and less frequency."
   ]
  },
  {
   "cell_type": "code",
   "execution_count": 97,
   "id": "9b1191c8",
   "metadata": {},
   "outputs": [
    {
     "data": {
      "text/plain": [
       "579.5701754385965"
      ]
     },
     "execution_count": 97,
     "metadata": {},
     "output_type": "execute_result"
    }
   ],
   "source": [
    "# Compute the mean of Total Esport Picks\n",
    "dataset_df[\"Total_Esport_Picks\"].mean()"
   ]
  },
  {
   "cell_type": "code",
   "execution_count": 98,
   "id": "f821eb29",
   "metadata": {},
   "outputs": [
    {
     "name": "stdout",
     "output_type": "stream",
     "text": [
      "Above Mean Picks:\n",
      " ['Akai', 'Alice', 'Balmond', 'Barats', 'Baxia', 'Beatrix', 'Benedetta', 'Brody', 'Cecilion', 'Chou', 'Claude', 'Clint', 'Diggie', 'Dyrroth', 'Esmeralda', 'Franco', 'Granger', 'Grock', 'Hayabusa', 'Jawhead', 'Kagura', 'Karina', 'Karrie', 'Khufra', 'Lancelot', 'Ling', 'Lolita', 'Lunox', 'Lylia', 'Mathilda', 'Masha', 'Pharsa', 'Phoveus', 'Popol_and_Kupa', 'Paquito', 'Rafaela', 'Roger', 'Ruby', 'Selena', 'Thamuz', 'Uranus', 'Wanwan', 'X.Borg', 'Yi_Sun-Shin', 'Yu_Zhong', 'Yve']\n",
      "\n",
      "Below Mean Picks:\n",
      " ['Aamon', 'Aldous', 'Alpha', 'Alucard', 'Angela', 'Argus', 'Atlas', 'Aurora', 'Aulus', 'Badang', 'Bane', 'Belerick', 'Bruno', 'Carmilla', \"Chang'e\", 'Cyclops', 'Edith', 'Estes', 'Eudora', 'Fanny', 'Faramis', 'Floryn', 'Fredrinn', 'Freya', 'Gatotkaca', 'Gloo', 'Gord', 'Guinevere', 'Gusion', 'Hanabi', 'Hanzo', 'Harith', 'Harley', 'Helcurt', 'Hilda', 'Hylos', 'Irithel', 'Johnson', 'Julian', 'Kadita', 'Kaja', 'Khaleed', 'Kimmy', 'Lapu-Lapu', 'Layla', 'Leomord', 'Lesley', 'Luo_Yi', 'Martis', 'Melissa', 'Minotaur', 'Minsitthar', 'Miya', 'Moskov', 'Nana', 'Natan', 'Natalia', 'Odette', 'Silvanna', 'Terizla', 'Vale', 'Valentina', 'Valir', 'Vexana', 'Xavier', 'Yin', 'Zhask', 'Zilong']\n"
     ]
    }
   ],
   "source": [
    "# Dispçay the above mean picks and below mean picks\n",
    "print('Above Mean Picks:\\n',dataset_df.loc[(dataset_df[\"Total_Esport_Picks\"] > 580), 'Name'].tolist())\n",
    "print('\\nBelow Mean Picks:\\n' ,dataset_df.loc[(dataset_df[\"Total_Esport_Picks\"] < 580), 'Name'].tolist())"
   ]
  },
  {
   "cell_type": "markdown",
   "id": "9695b4e1",
   "metadata": {},
   "source": [
    "#### Above mean played champions with the highest win rate\n",
    "Here is displayed all the above mean picked champions with the highest win rate (above 50%), ordered by the win rate value. "
   ]
  },
  {
   "cell_type": "code",
   "execution_count": 99,
   "id": "840e91a3",
   "metadata": {},
   "outputs": [
    {
     "name": "stdout",
     "output_type": "stream",
     "text": [
      "               Name  Esport_Win_rate  Total_Esport_Picks       Lane\n",
      "37           Franco        57.416268                 627     Roamer\n",
      "105          Wanwan        56.965517                 725  Gold Lane\n",
      "73           Lolita        53.813559                 944     Roamer\n",
      "109     Yi_Sun-Shin        53.631961                 826    Jungler\n",
      "111             Yve        53.598972                1556        Mid\n",
      "79            Masha        53.589316                 599   EXP Lane\n",
      "29          Dyrroth        53.488372                 645   EXP Lane\n",
      "90          Phoveus        53.092784                 582   EXP Lane\n",
      "92          Paquito        52.465483                2028   EXP Lane\n",
      "24             Chou        51.867031                2196   EXP Lane\n",
      "51         Hayabusa        51.836038                1171    Jungler\n",
      "67         Lancelot        51.494449                1171    Jungler\n",
      "25           Claude        51.457119                1201  Gold Lane\n",
      "16          Beatrix        51.183879                1985  Gold Lane\n",
      "76            Lylia        51.052221                1283        Mid\n",
      "65           Khufra        51.037037                1350     Roamer\n",
      "74            Lunox        50.914205                1422        Mid\n",
      "3             Alice        50.837989                 716   EXP Lane\n",
      "100          Uranus        50.766610                1174   EXP Lane\n",
      "1              Akai        50.751880                1064     Roamer\n",
      "77         Mathilda        50.670241                1492     Roamer\n",
      "72             Ling        50.578035                1384    Jungler\n",
      "91   Popol_and_Kupa        50.566893                1323  Gold Lane\n",
      "62           Karina        50.501253                 798    Jungler\n",
      "18        Benedetta        50.316456                 948   EXP Lane\n",
      "26            Clint        50.185874                1076  Gold Lane\n",
      "['Franco', 'Wanwan', 'Lolita', 'Yi_Sun-Shin', 'Yve', 'Masha', 'Dyrroth', 'Phoveus', 'Paquito', 'Chou', 'Hayabusa', 'Lancelot', 'Claude', 'Beatrix', 'Lylia', 'Khufra', 'Lunox', 'Alice', 'Uranus', 'Akai', 'Mathilda', 'Ling', 'Popol_and_Kupa', 'Karina', 'Benedetta', 'Clint']\n"
     ]
    }
   ],
   "source": [
    "filtered_champions = dataset_df.loc[(dataset_df[\"Total_Esport_Picks\"] > 580) & (dataset_df[\"Esport_Win_rate\"] > 50),\n",
    "                                    ['Name', 'Esport_Win_rate', 'Total_Esport_Picks', 'Lane']]\n",
    "sorted_champions = filtered_champions.sort_values(by=['Esport_Win_rate', 'Total_Esport_Picks'], ascending=False)\n",
    "print(sorted_champions)\n",
    "print(sorted_champions['Name'].tolist())"
   ]
  },
  {
   "cell_type": "markdown",
   "id": "973d2bfa",
   "metadata": {},
   "source": [
    "#### Above mean played champions with the lowest win rate\n",
    "Here is displayed all the above mean picked champions with the lowest win rate (below 50%), ordered by the win rate value. "
   ]
  },
  {
   "cell_type": "code",
   "execution_count": 100,
   "id": "f6594f4e",
   "metadata": {},
   "outputs": [
    {
     "name": "stdout",
     "output_type": "stream",
     "text": [
      "          Name  Esport_Win_rate  Total_Esport_Picks       Lane\n",
      "89      Pharsa        49.813572                1341        Mid\n",
      "19       Brody        49.682875                 946  Gold Lane\n",
      "99      Thamuz        49.363868                1179   EXP Lane\n",
      "107     X.Borg        49.302326                 645   EXP Lane\n",
      "15       Baxia        49.180328                 915     Roamer\n",
      "60      Kagura        49.139711                1453        Mid\n",
      "56     Jawhead        48.958333                 960   EXP Lane\n",
      "44       Grock        48.663968                1235     Roamer\n",
      "14      Barats        48.588410                 673   EXP Lane\n",
      "96      Selena        48.144531                1024    Jungler\n",
      "110   Yu_Zhong        48.076923                1144   EXP Lane\n",
      "12     Balmond        47.702060                 631   EXP Lane\n",
      "93     Rafaela        47.288777                 793     Roamer\n",
      "30   Esmeralda        47.020097                2886   EXP Lane\n",
      "43     Granger        46.960486                 658  Gold Lane\n",
      "94       Roger        46.761658                 772    Jungler\n",
      "95        Ruby        46.395250                1179   EXP Lane\n",
      "28      Diggie        45.918367                 588     Roamer\n",
      "63      Karrie        44.871795                 780  Gold Lane\n",
      "22    Cecilion        44.423440                1058        Mid\n",
      "['Pharsa', 'Brody', 'Thamuz', 'X.Borg', 'Baxia', 'Kagura', 'Jawhead', 'Grock', 'Barats', 'Selena', 'Yu_Zhong', 'Balmond', 'Rafaela', 'Esmeralda', 'Granger', 'Roger', 'Ruby', 'Diggie', 'Karrie', 'Cecilion']\n"
     ]
    }
   ],
   "source": [
    "filtered_champions = dataset_df.loc[(dataset_df[\"Total_Esport_Picks\"] > 580) & (dataset_df[\"Esport_Win_rate\"] < 50),\n",
    "                                    ['Name', 'Esport_Win_rate', 'Total_Esport_Picks', 'Lane']]\n",
    "sorted_champions = filtered_champions.sort_values(by=['Esport_Win_rate', 'Total_Esport_Picks'], ascending=False)\n",
    "print(sorted_champions)\n",
    "print(sorted_champions['Name'].tolist())"
   ]
  },
  {
   "cell_type": "markdown",
   "id": "269ed4a9",
   "metadata": {},
   "source": [
    "#### Below mean played champions with the highest win rate\n",
    "Here is displayed all the below mean picked champions with the highest win rate (above 50%), ordered by the win rate value."
   ]
  },
  {
   "cell_type": "code",
   "execution_count": 101,
   "id": "2ab39210",
   "metadata": {},
   "outputs": [
    {
     "name": "stdout",
     "output_type": "stream",
     "text": [
      "          Name  Esport_Win_rate  Total_Esport_Picks       Lane\n",
      "35     Faramis        57.857143                 280     Roamer\n",
      "59      Kadita        57.225434                 346        Mid\n",
      "83        Miya        56.250000                  32  Gold Lane\n",
      "104     Vexana        55.555556                   9        Mid\n",
      "84      Moskov        53.846154                  78  Gold Lane\n",
      "47      Hanabi        53.846154                  26  Gold Lane\n",
      "33      Eudora        53.793103                 145        Mid\n",
      "108        Yin        53.608247                  97   EXP Lane\n",
      "66       Kimmy        53.440367                 436  Gold Lane\n",
      "69       Layla        53.333333                  15  Gold Lane\n",
      "75      Luo_Yi        52.884615                 312        Mid\n",
      "58      Julian        52.327747                 537   EXP Lane\n",
      "49      Harith        52.258065                 465        Mid\n",
      "41        Gloo        52.248394                 467     Roamer\n",
      "8        Atlas        52.165725                 531     Roamer\n",
      "106     Xavier        52.066116                 484        Mid\n",
      "32       Estes        52.009456                 423     Roamer\n",
      "102  Valentina        51.923077                 520        Mid\n",
      "86       Natan        51.863354                 322  Gold Lane\n",
      "9       Aurora        51.851852                  54        Mid\n",
      "11      Badang        51.724138                  29   EXP Lane\n",
      "64     Khaleed        51.176471                 340   EXP Lane\n",
      "97    Silvanna        51.162791                 172   EXP Lane\n",
      "10       Aulus        51.121076                 223   EXP Lane\n",
      "55     Irithel        51.121076                 223  Gold Lane\n",
      "2       Aldous        50.802139                 187   EXP Lane\n",
      "103      Valir        50.787402                 254        Mid\n",
      "0        Aamon        50.588235                  85    Jungler\n",
      "['Faramis', 'Kadita', 'Miya', 'Vexana', 'Moskov', 'Hanabi', 'Eudora', 'Yin', 'Kimmy', 'Layla', 'Luo_Yi', 'Julian', 'Harith', 'Gloo', 'Atlas', 'Xavier', 'Estes', 'Valentina', 'Natan', 'Aurora', 'Badang', 'Khaleed', 'Silvanna', 'Aulus', 'Irithel', 'Aldous', 'Valir', 'Aamon']\n"
     ]
    }
   ],
   "source": [
    "filtered_champions = dataset_df.loc[(dataset_df[\"Total_Esport_Picks\"] < 580) & (dataset_df[\"Esport_Win_rate\"] > 50),\n",
    "                                    ['Name', 'Esport_Win_rate', 'Total_Esport_Picks', 'Lane']]\n",
    "sorted_champions = filtered_champions.sort_values(by=['Esport_Win_rate', 'Total_Esport_Picks'], ascending=False)\n",
    "print(sorted_champions)\n",
    "print(sorted_champions['Name'].tolist())"
   ]
  },
  {
   "cell_type": "markdown",
   "id": "c9388975",
   "metadata": {},
   "source": [
    "#### Below mean played champions with the lowest win rate\n",
    "Here is displayed all the below mean picked champions with the lowest win rate (above 50%), ordered by the win rate value."
   ]
  },
  {
   "cell_type": "code",
   "execution_count": 102,
   "id": "d9dc915b",
   "metadata": {},
   "outputs": [
    {
     "name": "stdout",
     "output_type": "stream",
     "text": [
      "           Name  Esport_Win_rate  Total_Esport_Picks       Lane\n",
      "61         Kaja        49.820789                 558   EXP Lane\n",
      "57      Johnson        49.635036                 137     Roamer\n",
      "98      Terizla        49.519231                 208   EXP Lane\n",
      "50       Harley        49.299065                 428        Mid\n",
      "52      Helcurt        49.147727                 352    Jungler\n",
      "34        Fanny        49.090909                 385    Jungler\n",
      "40    Gatotkaca        48.965517                 145     Roamer\n",
      "31        Edith        48.333333                 180   EXP Lane\n",
      "68    Lapu-Lapu        48.282828                 495   EXP Lane\n",
      "101        Vale        48.181818                 110        Mid\n",
      "80      Melissa        47.183099                 142  Gold Lane\n",
      "46       Gusion        47.177419                 248    Jungler\n",
      "78       Martis        46.341463                 205   EXP Lane\n",
      "13         Bane        46.116505                 206    Jungler\n",
      "54        Hylos        45.579568                 509     Roamer\n",
      "53        Hilda        45.497630                 422   EXP Lane\n",
      "112       Zhask        44.578313                  83        Mid\n",
      "17     Belerick        44.531250                 128     Roamer\n",
      "6        Angela        43.771626                 578     Roamer\n",
      "23      Chang'e        43.675889                 506        Mid\n",
      "27      Cyclops        43.396226                 159        Mid\n",
      "70      Leomord        42.180095                 211   EXP Lane\n",
      "4         Alpha        42.105263                  57   EXP Lane\n",
      "45    Guinevere        40.909091                  44  Gold Lane\n",
      "85         Nana        40.625000                  64        Mid\n",
      "21     Carmilla        40.506329                  79     Roamer\n",
      "5       Alucard        40.000000                  55    Jungler\n",
      "82   Minsitthar        40.000000                  50   EXP Lane\n",
      "42         Gord        38.235294                  34        Mid\n",
      "48        Hanzo        35.897436                  39    Jungler\n",
      "71       Lesley        35.185185                  54  Gold Lane\n",
      "36       Floryn        33.333333                  48     Roamer\n",
      "88       Odette        33.333333                   6        Mid\n",
      "39        Freya        31.818182                  22   EXP Lane\n",
      "7         Argus        22.222222                   9   EXP Lane\n",
      "113      Zilong        17.857143                  28   EXP Lane\n",
      "38     Fredrinn         0.000000                   3   EXP Lane\n",
      "['Kaja', 'Johnson', 'Terizla', 'Harley', 'Helcurt', 'Fanny', 'Gatotkaca', 'Edith', 'Lapu-Lapu', 'Vale', 'Melissa', 'Gusion', 'Martis', 'Bane', 'Hylos', 'Hilda', 'Zhask', 'Belerick', 'Angela', \"Chang'e\", 'Cyclops', 'Leomord', 'Alpha', 'Guinevere', 'Nana', 'Carmilla', 'Alucard', 'Minsitthar', 'Gord', 'Hanzo', 'Lesley', 'Floryn', 'Odette', 'Freya', 'Argus', 'Zilong', 'Fredrinn']\n"
     ]
    }
   ],
   "source": [
    "filtered_champions = dataset_df.loc[(dataset_df[\"Total_Esport_Picks\"] < 580) & (dataset_df[\"Esport_Win_rate\"] < 50),\n",
    "                                    ['Name', 'Esport_Win_rate', 'Total_Esport_Picks', 'Lane']]\n",
    "sorted_champions = filtered_champions.sort_values(by=['Esport_Win_rate', 'Total_Esport_Picks'], ascending=False)\n",
    "print(sorted_champions)\n",
    "print(sorted_champions['Name'].tolist())"
   ]
  },
  {
   "cell_type": "markdown",
   "id": "12010f11",
   "metadata": {},
   "source": [
    "#### Relationship between the pro players champion picks and the champion release date - 2022 season\n",
    "To try to understand if there is any relationship between the date the champions were launched and the number of times they were chosen by the professionals in this 2022 season, I made a horizontal plot in order to visualise if there is any preference by the professionals to champions held in a specific year."
   ]
  },
  {
   "cell_type": "code",
   "execution_count": 103,
   "id": "3bc7820b",
   "metadata": {
    "scrolled": true
   },
   "outputs": [
    {
     "data": {
      "image/png": "[encoded data removed]",
      "text/plain": [
       "<Figure size 1000x800 with 1 Axes>"
      ]
     },
     "metadata": {},
     "output_type": "display_data"
    }
   ],
   "source": [
    "# Convert 'Release_Date' column to datetime\n",
    "dataset_df['Release_Date'] = pd.to_datetime(dataset_df['Release_Date'])\n",
    "\n",
    "# Group data by release year and calculate the mean of 'Total_Esport_Picks'\n",
    "yearly_esport_picks = dataset_df.groupby(dataset_df['Release_Date'].dt.year)['Total_Esport_Picks'].mean()\n",
    "\n",
    "# Plot horizontal bar chart\n",
    "plt.figure(figsize=(10, 8))\n",
    "yearly_esport_picks.plot(kind='barh')\n",
    "plt.title('Relationship between the Total Esport Picks And The Champions Release Date')\n",
    "plt.xlabel('Total Mean of the Esport Picks in season 2022')\n",
    "plt.ylabel('Champions Release Date')\n",
    "plt.tight_layout()\n",
    "plt.show()"
   ]
  },
  {
   "cell_type": "markdown",
   "id": "0849e79a",
   "metadata": {},
   "source": [
    "### 4. Main Conclusions\n",
    "**Correlation betweens basic champions stats:** Regarding the existing correlations between the basic champions stats (Hp, Hp_Regen, Mana, Mana_Regen, Phy_Damage, Mag_Damage, Phy_Defence, Mag_Defence, Mov_Speed) through the analysis of the presented heatmap, there are no strong correlations within a pair of attributes. The highest correlation values in module were 0.42, 0.39 and -0.41, so since they are in the approximate range of 0.4 to 0.6 it is a moderate correlation.  Within the positive associations, the value of 0.42 refers to the correlation between movement speed and physical defence and the value of 0.39 corresponds to the correlation between a champion's life and its regeneration, Hp and Hp regen, whic makes sense in this type of games. The correlation with negative association -0.41 exists between the Mana value and the champion's Movement speed. \n",
    "\n",
    "**Relationship between the champion Lane and his points of life, Hp:** In this section through the boxplots of the Hp as a function of the champions' Lane I identified and explored the cases outside the IQR and the maximum and minimum of the boxplots, from which I concluded that some were outliers, (champions who did not have their correct lane), and that others were either normal cases or cases in which the Hp was shared with an armour Hp in the health bar. From the distribution of Hp by Lanes, it was possible to conclude that the champions with more Hp are mostly located in the Roam and EXP Lanes and that the champions with less Hp are in the Gold Lane, which makes sense given the type of game.\n",
    "\n",
    "**Total existing champions in each Lane:** The Lane that counts with more champions is the EXP Lane with a total number of 35 champions, and the Lane that has the less number of champions is Jungle with 15 champions. There are 36 champions to use in the EXP Lane, 23 to the Mid Lane, 21 to the Roam Lane, 19 to the Gold Lane and 15 to the Jungle Lane.\n",
    "\n",
    "**Number of champions for each Primary Role:** There are 33 Fighters, 25 Mages, 18 Marksmans, 16 Tanks, 13 Assasins and 9 Supports. The Primary Role that counts with more champions is Figther, and the Primary Role that counts with less champions is Support. It is also important to emphasize that some champions have Secondary Roles, for example, most of the Tanks have also a Support role.\n",
    "\n",
    "**Relationship between the champions Lane and their Primary Role:** In this section the relationship between the two categorical variables (Lane and Primary Role) was assessed using the chi square test. From the test result, there is a strong relationship between the Primary Role of each champion and the Lane where he/she is played. The heatmap presented also in this section gives us the general information that, 92.3% of Assassins play in Jungle, 88% of Fighters play in EXP lane, 92% of Mages are used in Mid, 100% of Marksman play in Gold Lane , Supports play 100% of the time in Roam Lane and Tanks play 75% of the time in Roam Lane, with the other 25% in EXP Lane\n",
    "\n",
    "**Mobile Legends tendency to release champions:** The year in which the most new champions came out was the year 2017, the year after the creation of the Mobile Legends game, having been the only lane in which champions from all Lanes came out (Mid, Roam, EXP, Jungle and Gold, in order descending). The year in which fewer champions came out was the year 2022, with only 4 new champions. Also curious information is that from 2018 to 2022, that is, in the 4 consecutive years, the Lane for which more champions were made within those years was the EXP Lane.\n",
    "\n",
    "**Mobile Legends release and first year champions:** In the first Mobile Legends's year there were 24 initial champions, 6 Junglers, 5 Roamers, 5 EXP, 4 Gold laners and 4 Mid: 'Akai', 'Alice', 'Alucard', 'Balmond', 'Bane', 'Bruno', 'Chou', 'Clint', 'Eudora', 'Fanny', 'Franco', 'Freya', 'Gord', 'Hayabusa', 'Kagura', 'Karina', 'Layla', 'Lolita', 'Minotaur', 'Miya', 'Nana', 'Natalia', 'Rafaela', 'Zilong'.\n",
    "\n",
    "**Most recent champion until 2022:** The most recent champion until 2022 is Fredrinn, relesead in 2022-08-12. \n",
    "\n",
    "**Best and Worst basic attack champions:** The champion with highest basic attack damage is Bruno (Gold Laner, Marksman) and the champion with the lowest basc attack damage is Aulus (EXP Laner, Fighter) \n",
    "\n",
    "**Champions that don't use mana:** The champions that don´t use mana are: 'Alucard', 'Argus', 'Badang', 'Balmond', 'Beatrix', 'Chou', 'Dyrroth', 'Edith', 'Fredrinn', 'Freya', 'Gatotkaca', 'Granger', 'Guinevere', 'Hanzo', 'Hilda', 'Irithel', 'Johnson', 'Khaleed', 'Lapu-Lapu', 'Leomord', 'Martis', 'Masha', 'Minotaur', 'Paquito', 'Thamuz', 'X.Borg', 'Yin', 'Yu_Zhong'.\n",
    "\n",
    "**Most and less picked champion by pro players:** The champion most picked by pro players in the 2022 season was Esmeralda, and the champion less picked by pro players was Fredrinn, which is the more recent champion until 2022.\n",
    "\n",
    "**Champions chosen above and below the mean of total picks:** The mean of the total picks champions was 580, so, the champions picked above the mean are: 'Akai', 'Alice', 'Balmond', 'Barats', 'Baxia', 'Beatrix', 'Benedetta', 'Brody', 'Cecilion', 'Chou', 'Claude', 'Clint', 'Diggie', 'Dyrroth', 'Esmeralda', 'Franco', 'Granger', 'Grock', 'Hayabusa', 'Jawhead', 'Kagura', 'Karina', 'Karrie', 'Khufra', 'Lancelot', 'Ling', 'Lolita', 'Lunox', 'Lylia', 'Mathilda', 'Masha', 'Pharsa', 'Phoveus', 'Popol_and_Kupa', 'Paquito', 'Rafaela', 'Roger', 'Ruby', 'Selena', 'Thamuz', 'Uranus', 'Wanwan', 'X.Borg', 'Yi_Sun-Shin', 'Yu_Zhong', 'Yve', and the champions below mean picked are: 'Aamon', 'Aldous', 'Alpha', 'Alucard', 'Angela', 'Argus', 'Atlas', 'Aurora', 'Aulus', 'Badang', 'Bane', 'Belerick', 'Bruno', 'Carmilla', \"Chang'e\", 'Cyclops', 'Edith', 'Estes', 'Eudora', 'Fanny', 'Faramis', 'Floryn', 'Fredrinn', 'Freya', 'Gatotkaca', 'Gloo', 'Gord', 'Guinevere', 'Gusion', 'Hanabi', 'Hanzo', 'Harith', 'Harley', 'Helcurt', 'Hilda', 'Hylos', 'Irithel', 'Johnson', 'Julian', 'Kadita', 'Kaja', 'Khaleed', 'Kimmy', 'Lapu-Lapu', 'Layla', 'Leomord', 'Lesley', 'Luo_Yi', 'Martis', 'Melissa', 'Minotaur', 'Minsitthar', 'Miya', 'Moskov', 'Nana', 'Natan', 'Natalia', 'Odette', 'Silvanna', 'Terizla', 'Vale', 'Valentina', 'Valir', 'Vexana', 'Xavier', 'Yin', 'Zhask', 'Zilong'.\n",
    "\n",
    "**Above mean played champions with the highest win rate:** The champions with the highest win rate (per Lane) and highest pick rate are: Franco (Roamer), WanWan (Gold Lane), YI:Sun - Shim (Jungler), Yve (Mid), and Masha (EXP Lane). From the list of the above mean played, the maximum win rate is 57.41% and the minimum win rate is 50.18%. The descending order of these champions are:'Franco', 'Wanwan', 'Lolita', 'Yi_Sun-Shin', 'Yve', 'Masha', 'Dyrroth', 'Phoveus', 'Paquito', 'Chou', 'Hayabusa', 'Lancelot', 'Claude', 'Beatrix', 'Lylia', 'Khufra', 'Lunox', 'Alice', 'Uranus', 'Akai', 'Mathilda', 'Ling', 'Popol_and_Kupa', 'Karina', 'Benedetta', 'Clint'.\n",
    "\n",
    "**Above mean played champions with the lowest win rate:** The champions with the lowest win rate (per Lane) and highest pick rate are: Pharsa (Mid), Brody (Gold Lane), Thamuz (EXP Lane), Baxia (Roamer), and Selena (Jungler). From the list of the above mean played, the maximum win rate is 49.81% and the minimum win rate is 44.42%. The descending order of these champions are: 'Pharsa', 'Brody', 'Thamuz', 'X.Borg', 'Baxia', 'Kagura', 'Jawhead', 'Grock', 'Barats', 'Selena', 'Yu_Zhong', 'Balmond', 'Rafaela', 'Esmeralda', 'Granger', 'Roger', 'Ruby', 'Diggie', 'Karrie', 'Cecilion'.\n",
    "\n",
    "**Below mean played champions with the highest win rate:** The champions with the highest win rate (per Lane) and lowest pick rate are: Faramis (Roamer), Kadita (Mid), Moya (Gold Lane), Yin (EXP Lane), and Aamons (Jungler). From the list of the below mean played, the maximum win rate is 57.85% and the minimum win rate is 50.58%. The descending order of these champions are: 'Faramis', 'Kadita', 'Miya', 'Vexana', 'Moskov', 'Hanabi', 'Eudora', 'Yin', 'Kimmy', 'Layla', 'Luo_Yi', 'Julian', 'Harith', 'Gloo', 'Atlas', 'Xavier', 'Estes', 'Valentina', 'Natan', 'Aurora', 'Badang', 'Khaleed', 'Silvanna', 'Aulus', 'Irithel', 'Aldous', 'Valir', 'Aamon'.\n",
    "\n",
    "**Below mean played champions with the lowest win rate:** The champions with the lowest win rate (per Lane) and lowest pick rate are: Kaja (EXP Lane), Johnson (Roamer), Harley (Mid), Helcurt (Jungler), and Melissa (Gold Lane). From the list of the below mean played, the maximum win rate is 49.82% and the minimum win rate is 0% that correspond to Fredrinn. The descending order of these champions are: 'Kaja', 'Johnson', 'Terizla', 'Harley', 'Helcurt', 'Fanny', 'Gatotkaca', 'Edith', 'Lapu-Lapu', 'Vale', 'Melissa', 'Gusion', 'Martis', 'Bane', 'Hylos', 'Hilda', 'Zhask', 'Belerick', 'Angela', \"Chang'e\", 'Cyclops', 'Leomord', 'Alpha', 'Guinevere', 'Nana', 'Carmilla', 'Alucard', 'Minsitthar', 'Gord', 'Hanzo', 'Lesley', 'Floryn', 'Odette', 'Freya', 'Argus', 'Zilong', 'Fredrinn'.\n",
    "\n",
    "**Relationship between the pro players champion picks and the champion release date - 2022 season:** Analysing the horizontal barplot, it is cleary visible that pro players in this 2022 season played and chose more champions whose release date is between 2019 and 2021 which is an interesting fact. The champions least used by professionals, on average, are the champions whose release date was in the current esports year, season 2022. The champions released in the first year of Mobile Legends, 2016, are also frequently used, but with less frequency that the 2019, 2020 and 2021 years. "
   ]
  }
 ],
 "metadata": {
  "kernelspec": {
   "display_name": "Python 3 (ipykernel)",
   "language": "python",
   "name": "python3"
  },
  "language_info": {
   "codemirror_mode": {
    "name": "ipython",
    "version": 3
   },
   "file_extension": ".py",
   "mimetype": "text/x-python",
   "name": "python",
   "nbconvert_exporter": "python",
   "pygments_lexer": "ipython3",
   "version": "3.9.16"
  }
 },
 "nbformat": 4,
 "nbformat_minor": 5
}
